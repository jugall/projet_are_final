{
 "cells": [
  {
   "cell_type": "code",
   "execution_count": 42,
   "metadata": {},
   "outputs": [],
   "source": [
    "from random import randint\n",
    "import numpy as np\n",
    "import matplotlib.pyplot as plt\n",
    "%matplotlib inline"
   ]
  },
  {
   "cell_type": "code",
   "execution_count": 43,
   "metadata": {},
   "outputs": [],
   "source": [
    "class voiture:\n",
    "    \n",
    "    def __init__(self, x, v, dt, proba,name, couleur):\n",
    "        self.x = x\n",
    "        #self.y = 2\n",
    "        self.v = v\n",
    "        self.dt = dt\n",
    "        self.temps = dt\n",
    "        self.proba = proba\n",
    "        self.etat = 0 #si different de 0 alors accident et stop traffic\n",
    "        self.j = name\n",
    "        self.vitesse = v\n",
    "        self.change = 0\n",
    "        self.couleur = couleur\n",
    "\n",
    "    #la fonction qui fait rouler les voitures\n",
    "    def roule(self):\n",
    "        #sert à connaitre le temps mis par une voiture pour traverser la route\n",
    "        self.temps += 1\n",
    "        if self.etat == 0: # si la voiture n'est pas accidentée\n",
    "            self.v = self.vitesse #la vitesse\n",
    "            self.x = self.x + self.v*self.dt\n",
    "            if self.proba == 0 :\n",
    "                self.accident = 0\n",
    "            else :\n",
    "                self.accident = randint(1, self.proba)\n",
    "            if self.accident == 1 and self.x>0:\n",
    "                self.etat = 5\n",
    "                self.v = 0\n",
    "        else :\n",
    "            self.etat += -1\n",
    "        "
   ]
  },
  {
   "cell_type": "code",
   "execution_count": 99,
   "metadata": {},
   "outputs": [],
   "source": [
    "class route:\n",
    "    \n",
    "    def __init__(self, debit, distance, x, v, dt, proba):\n",
    "        #self.voitures = [voiture(x-2*i, v, dt, proba) for i in range(0,debit)]\n",
    "        self.voitures1 = [voiture(0,v,dt,proba,0,9)]\n",
    "        self.voitures2 = [voiture(0,v,dt,proba,0,13)]\n",
    "        self.debit = debit\n",
    "        self.v = v\n",
    "        self.dt = dt\n",
    "        self.sortie = 8\n",
    "        #fin de l'ajout\n",
    "        \n",
    "        self.grid = np.zeros(shape=(distance,5))\n",
    "        self.distance = distance\n",
    "        self.state_route = np.zeros((self.distance, 5))\n",
    "        self.proba = proba\n",
    "        self.v = v\n",
    "        self.dt = dt\n",
    "        \n",
    "        #truc pour le temps\n",
    "        self.inc = 0\n",
    "        self.voitures_passe = 0\n",
    "\n",
    "    def update_route(self):\n",
    "        self.state_route = np.zeros((self.distance, 5))\n",
    "        #self.state_route[self.sortie][4] = 1\n",
    "        #les voitures avancent\n",
    "        for idx, item in enumerate(self.voitures1):#voie gauche\n",
    "            if item.x>=0 and item.x<(self.distance-1) and self.state_route[item.x+1][1] != 0:\n",
    "                item.etat = 2\n",
    "                item.temps += 1\n",
    "                self.state_route[item.x][1] = 5#arret\n",
    "            if item.x>=0 and item.x<(self.distance-1) and self.state_route[item.x+1][1] != 0 and self.state_route[item.x][3] == 0 and self.state_route[item.x-1][3] == 0 and self.state_route[item.x+1][3] == 0:\n",
    "                self.state_route[item.x][3] = item.couleur#couleur gauche\n",
    "                self.state_route[item.x][1] = 0\n",
    "                item.etat = 0\n",
    "                for i in range(len(self.voitures2)) :\n",
    "                    if self.voitures2[i].x < item.x :\n",
    "                        self.voitures2.insert(i, item)\n",
    "                        print(item.x)\n",
    "                        del self.voitures1[idx]\n",
    "                        break\n",
    "\n",
    "            else :\n",
    "                item.roule()\n",
    "                if item.x >= 0 and item.x < self.distance:\n",
    "                        self.state_route[item.x][1] = item.couleur#couleur gauche\n",
    "                        if item.etat != 0 :\n",
    "                            self.state_route[item.x][1] = 5#couleur arret\n",
    "               \n",
    "        for idx, item in enumerate(self.voitures2):\n",
    "            if item.x>=0 and item.x<(self.distance-1) and self.state_route[item.x+1][3] != 0:\n",
    "                item.etat = 2\n",
    "                item.temps += 1\n",
    "                self.state_route[item.x][3] = 5#arret\n",
    "            if item.x>=0 and item.x<(self.distance-1) and self.state_route[item.x+1][3] != 0 and self.state_route[item.x][1] == 0 and self.state_route[item.x-1][1] == 0 and self.state_route[item.x+1][1] == 0:\n",
    "                self.state_route[item.x][1] = item.couleur\n",
    "                self.state_route[item.x][3] = 0\n",
    "                item.etat = 0\n",
    "                for i in range(len(self.voitures1)) :\n",
    "                    if self.voitures1[i].x < item.x :\n",
    "                        self.voitures1.insert(i,item)\n",
    "                        print(item.x)\n",
    "                        del self.voitures2[idx]\n",
    "                        break\n",
    "                \n",
    "        \n",
    "            else :\n",
    "                item.roule()\n",
    "                if item.x >= 0 and item.x < self.distance:\n",
    "                        self.state_route[item.x][3] = item.couleur\n",
    "                        if item.etat != 0 :\n",
    "                            self.state_route[item.x][3] = 5\n",
    "                 \n",
    "        \n",
    "            #print([item.x for item in self.voitures])\n",
    "        \n",
    "        #generation de nouvelles voitures\n",
    "        self.inc += 1\n",
    "        if self.inc%4 == 0 and self.state_route[0][1] == 0 and self.state_route[1][1] == 0:\n",
    "            self.voitures1.append(voiture(0,self.v,self.dt,self.proba,self.inc,9))\n",
    "            print(\"plop ! une voiture est entrée dans l'autoroute !!\")\n",
    "        if self.inc%self.debit == 0 and self.state_route[0][3] == 0 and self.state_route[1][3] == 0:\n",
    "            self.voitures2.append(voiture(0,self.v,self.dt,self.proba,self.inc,13))\n",
    "            print(\"plop ! une voiture est entrée dans l'autoroute !!\")\n",
    "            \n",
    "        \n",
    "        \n",
    "        #compteur de voitures passées\n",
    "        #for i in self.voitures1:\n",
    "            #if i.x == self.distance :\n",
    "                #print( \"ping ! la voiture \",i.j,\" a traversee l'autoroute ! elle a mis\",i.temps)\n",
    "                #del i\n",
    "        "
   ]
  },
  {
   "cell_type": "code",
   "execution_count": 100,
   "metadata": {
    "scrolled": true
   },
   "outputs": [],
   "source": [
    "road = route(2,15,0,1,1,40)\n"
   ]
  },
  {
   "cell_type": "code",
   "execution_count": 101,
   "metadata": {
    "scrolled": false
   },
   "outputs": [
    {
     "data": {
      "image/png": "[encoded data removed]",
      "text/plain": [
       "<matplotlib.figure.Figure at 0x7fcc8d0d1b10>"
      ]
     },
     "metadata": {},
     "output_type": "display_data"
    },
    {
     "name": "stdout",
     "output_type": "stream",
     "text": [
      "plop ! une voiture est entrée dans l'autoroute !!\n"
     ]
    },
    {
     "data": {
      "image/png": "[encoded data removed]",
      "text/plain": [
       "<matplotlib.figure.Figure at 0x7fcc8d4e4a90>"
      ]
     },
     "metadata": {},
     "output_type": "display_data"
    },
    {
     "data": {
      "image/png": "[encoded data removed]",
      "text/plain": [
       "<matplotlib.figure.Figure at 0x7fcc8d40a250>"
      ]
     },
     "metadata": {},
     "output_type": "display_data"
    },
    {
     "name": "stdout",
     "output_type": "stream",
     "text": [
      "plop ! une voiture est entrée dans l'autoroute !!\n",
      "plop ! une voiture est entrée dans l'autoroute !!\n"
     ]
    },
    {
     "data": {
      "image/png": "[encoded data removed]",
      "text/plain": [
       "<matplotlib.figure.Figure at 0x7fcc8cf24fd0>"
      ]
     },
     "metadata": {},
     "output_type": "display_data"
    },
    {
     "data": {
      "image/png": "[encoded data removed]",
      "text/plain": [
       "<matplotlib.figure.Figure at 0x7fcc8d3b0f10>"
      ]
     },
     "metadata": {},
     "output_type": "display_data"
    },
    {
     "name": "stdout",
     "output_type": "stream",
     "text": [
      "plop ! une voiture est entrée dans l'autoroute !!\n"
     ]
    },
    {
     "data": {
      "image/png": "[encoded data removed]",
      "text/plain": [
       "<matplotlib.figure.Figure at 0x7fcc8ce76fd0>"
      ]
     },
     "metadata": {},
     "output_type": "display_data"
    },
    {
     "data": {
      "image/png": "[encoded data removed]",
      "text/plain": [
       "<matplotlib.figure.Figure at 0x7fcc8d439d90>"
      ]
     },
     "metadata": {},
     "output_type": "display_data"
    },
    {
     "name": "stdout",
     "output_type": "stream",
     "text": [
      "plop ! une voiture est entrée dans l'autoroute !!\n",
      "plop ! une voiture est entrée dans l'autoroute !!\n"
     ]
    },
    {
     "data": {
      "image/png": "[encoded data removed]",
      "text/plain": [
       "<matplotlib.figure.Figure at 0x7fcc8ceb7c50>"
      ]
     },
     "metadata": {},
     "output_type": "display_data"
    },
    {
     "data": {
      "image/png": "[encoded data removed]",
      "text/plain": [
       "<matplotlib.figure.Figure at 0x7fcc8ce76f50>"
      ]
     },
     "metadata": {},
     "output_type": "display_data"
    },
    {
     "name": "stdout",
     "output_type": "stream",
     "text": [
      "plop ! une voiture est entrée dans l'autoroute !!\n"
     ]
    },
    {
     "data": {
      "image/png": "[encoded data removed]",
      "text/plain": [
       "<matplotlib.figure.Figure at 0x7fcc8ce5eb50>"
      ]
     },
     "metadata": {},
     "output_type": "display_data"
    },
    {
     "data": {
      "image/png": "[encoded data removed]",
      "text/plain": [
       "<matplotlib.figure.Figure at 0x7fcc8cf2bbd0>"
      ]
     },
     "metadata": {},
     "output_type": "display_data"
    },
    {
     "name": "stdout",
     "output_type": "stream",
     "text": [
      "plop ! une voiture est entrée dans l'autoroute !!\n",
      "plop ! une voiture est entrée dans l'autoroute !!\n"
     ]
    },
    {
     "data": {
      "image/png": "[encoded data removed]",
      "text/plain": [
       "<matplotlib.figure.Figure at 0x7fcc8d13e250>"
      ]
     },
     "metadata": {},
     "output_type": "display_data"
    },
    {
     "data": {
      "image/png": "[encoded data removed]",
      "text/plain": [
       "<matplotlib.figure.Figure at 0x7fcc8f72ac10>"
      ]
     },
     "metadata": {},
     "output_type": "display_data"
    },
    {
     "name": "stdout",
     "output_type": "stream",
     "text": [
      "plop ! une voiture est entrée dans l'autoroute !!\n"
     ]
    },
    {
     "data": {
      "image/png": "[encoded data removed]",
      "text/plain": [
       "<matplotlib.figure.Figure at 0x7fcc8d0fa450>"
      ]
     },
     "metadata": {},
     "output_type": "display_data"
    },
    {
     "data": {
      "image/png": "[encoded data removed]",
      "text/plain": [
       "<matplotlib.figure.Figure at 0x7fcc8d37df10>"
      ]
     },
     "metadata": {},
     "output_type": "display_data"
    },
    {
     "name": "stdout",
     "output_type": "stream",
     "text": [
      "plop ! une voiture est entrée dans l'autoroute !!\n",
      "plop ! une voiture est entrée dans l'autoroute !!\n"
     ]
    },
    {
     "data": {
      "image/png": "[encoded data removed]",
      "text/plain": [
       "<matplotlib.figure.Figure at 0x7fcc8d224ed0>"
      ]
     },
     "metadata": {},
     "output_type": "display_data"
    },
    {
     "data": {
      "image/png": "[encoded data removed]",
      "text/plain": [
       "<matplotlib.figure.Figure at 0x7fcc8cf93c90>"
      ]
     },
     "metadata": {},
     "output_type": "display_data"
    },
    {
     "name": "stdout",
     "output_type": "stream",
     "text": [
      "plop ! une voiture est entrée dans l'autoroute !!\n"
     ]
    },
    {
     "data": {
      "image/png": "[encoded data removed]",
      "text/plain": [
       "<matplotlib.figure.Figure at 0x7fcc8ce47d10>"
      ]
     },
     "metadata": {},
     "output_type": "display_data"
    },
    {
     "data": {
      "image/png": "[encoded data removed]",
      "text/plain": [
       "<matplotlib.figure.Figure at 0x7fcc8d10bf50>"
      ]
     },
     "metadata": {},
     "output_type": "display_data"
    },
    {
     "name": "stdout",
     "output_type": "stream",
     "text": [
      "plop ! une voiture est entrée dans l'autoroute !!\n",
      "plop ! une voiture est entrée dans l'autoroute !!\n"
     ]
    },
    {
     "data": {
      "image/png": "[encoded data removed]",
      "text/plain": [
       "<matplotlib.figure.Figure at 0x7fcc8cf93290>"
      ]
     },
     "metadata": {},
     "output_type": "display_data"
    },
    {
     "name": "stdout",
     "output_type": "stream",
     "text": [
      "3\n"
     ]
    },
    {
     "data": {
      "image/png": "[encoded data removed]",
      "text/plain": [
       "<matplotlib.figure.Figure at 0x7fcc8d3395d0>"
      ]
     },
     "metadata": {},
     "output_type": "display_data"
    },
    {
     "name": "stdout",
     "output_type": "stream",
     "text": [
      "plop ! une voiture est entrée dans l'autoroute !!\n"
     ]
    },
    {
     "data": {
      "image/png": "[encoded data removed]",
      "text/plain": [
       "<matplotlib.figure.Figure at 0x7fcc8cfbc250>"
      ]
     },
     "metadata": {},
     "output_type": "display_data"
    },
    {
     "data": {
      "image/png": "[encoded data removed]",
      "text/plain": [
       "<matplotlib.figure.Figure at 0x7fcc8ce51f10>"
      ]
     },
     "metadata": {},
     "output_type": "display_data"
    },
    {
     "name": "stdout",
     "output_type": "stream",
     "text": [
      "plop ! une voiture est entrée dans l'autoroute !!\n",
      "plop ! une voiture est entrée dans l'autoroute !!\n"
     ]
    },
    {
     "data": {
      "image/png": "[encoded data removed]",
      "text/plain": [
       "<matplotlib.figure.Figure at 0x7fccca9d8f90>"
      ]
     },
     "metadata": {},
     "output_type": "display_data"
    },
    {
     "data": {
      "image/png": "[encoded data removed]",
      "text/plain": [
       "<matplotlib.figure.Figure at 0x7fcc8d124cd0>"
      ]
     },
     "metadata": {},
     "output_type": "display_data"
    },
    {
     "data": {
      "image/png": "[encoded data removed]",
      "text/plain": [
       "<matplotlib.figure.Figure at 0x7fcc8d25f750>"
      ]
     },
     "metadata": {},
     "output_type": "display_data"
    },
    {
     "data": {
      "image/png": "[encoded data removed]",
      "text/plain": [
       "<matplotlib.figure.Figure at 0x7fcc8d25eed0>"
      ]
     },
     "metadata": {},
     "output_type": "display_data"
    },
    {
     "name": "stdout",
     "output_type": "stream",
     "text": [
      "plop ! une voiture est entrée dans l'autoroute !!\n",
      "plop ! une voiture est entrée dans l'autoroute !!\n"
     ]
    },
    {
     "data": {
      "image/png": "[encoded data removed]",
      "text/plain": [
       "<matplotlib.figure.Figure at 0x7fccc0c7fc50>"
      ]
     },
     "metadata": {},
     "output_type": "display_data"
    },
    {
     "data": {
      "image/png": "[encoded data removed]",
      "text/plain": [
       "<matplotlib.figure.Figure at 0x7fcc8d39bed0>"
      ]
     },
     "metadata": {},
     "output_type": "display_data"
    },
    {
     "name": "stdout",
     "output_type": "stream",
     "text": [
      "plop ! une voiture est entrée dans l'autoroute !!\n"
     ]
    },
    {
     "data": {
      "image/png": "[encoded data removed]",
      "text/plain": [
       "<matplotlib.figure.Figure at 0x7fcc8ce24f50>"
      ]
     },
     "metadata": {},
     "output_type": "display_data"
    },
    {
     "data": {
      "image/png": "[encoded data removed]",
      "text/plain": [
       "<matplotlib.figure.Figure at 0x7fcc8d39a590>"
      ]
     },
     "metadata": {},
     "output_type": "display_data"
    },
    {
     "name": "stdout",
     "output_type": "stream",
     "text": [
      "plop ! une voiture est entrée dans l'autoroute !!\n",
      "plop ! une voiture est entrée dans l'autoroute !!\n"
     ]
    },
    {
     "data": {
      "image/png": "[encoded data removed]",
      "text/plain": [
       "<matplotlib.figure.Figure at 0x7fccca9d8f50>"
      ]
     },
     "metadata": {},
     "output_type": "display_data"
    },
    {
     "name": "stdout",
     "output_type": "stream",
     "text": [
      "7\n"
     ]
    },
    {
     "data": {
      "image/png": "[encoded data removed]",
      "text/plain": [
       "<matplotlib.figure.Figure at 0x7fcc8d177310>"
      ]
     },
     "metadata": {},
     "output_type": "display_data"
    },
    {
     "name": "stdout",
     "output_type": "stream",
     "text": [
      "plop ! une voiture est entrée dans l'autoroute !!\n"
     ]
    },
    {
     "data": {
      "image/png": "[encoded data removed]",
      "text/plain": [
       "<matplotlib.figure.Figure at 0x7fcc8cf13790>"
      ]
     },
     "metadata": {},
     "output_type": "display_data"
    },
    {
     "data": {
      "image/png": "[encoded data removed]",
      "text/plain": [
       "<matplotlib.figure.Figure at 0x7fcc8d4910d0>"
      ]
     },
     "metadata": {},
     "output_type": "display_data"
    },
    {
     "name": "stdout",
     "output_type": "stream",
     "text": [
      "6\n",
      "plop ! une voiture est entrée dans l'autoroute !!\n",
      "plop ! une voiture est entrée dans l'autoroute !!\n"
     ]
    },
    {
     "data": {
      "image/png": "[encoded data removed]",
      "text/plain": [
       "<matplotlib.figure.Figure at 0x7fcc8d0d8ed0>"
      ]
     },
     "metadata": {},
     "output_type": "display_data"
    },
    {
     "data": {
      "image/png": "[encoded data removed]",
      "text/plain": [
       "<matplotlib.figure.Figure at 0x7fcc8f6f6f10>"
      ]
     },
     "metadata": {},
     "output_type": "display_data"
    },
    {
     "data": {
      "image/png": "[encoded data removed]",
      "text/plain": [
       "<matplotlib.figure.Figure at 0x7fcc8d102ed0>"
      ]
     },
     "metadata": {},
     "output_type": "display_data"
    },
    {
     "data": {
      "image/png": "[encoded data removed]",
      "text/plain": [
       "<matplotlib.figure.Figure at 0x7fcc8ceefc90>"
      ]
     },
     "metadata": {},
     "output_type": "display_data"
    },
    {
     "name": "stdout",
     "output_type": "stream",
     "text": [
      "plop ! une voiture est entrée dans l'autoroute !!\n"
     ]
    },
    {
     "data": {
      "image/png": "[encoded data removed]",
      "text/plain": [
       "<matplotlib.figure.Figure at 0x7fcc8d1cde10>"
      ]
     },
     "metadata": {},
     "output_type": "display_data"
    },
    {
     "data": {
      "image/png": "[encoded data removed]",
      "text/plain": [
       "<matplotlib.figure.Figure at 0x7fcc8cf52f50>"
      ]
     },
     "metadata": {},
     "output_type": "display_data"
    },
    {
     "name": "stdout",
     "output_type": "stream",
     "text": [
      "plop ! une voiture est entrée dans l'autoroute !!\n"
     ]
    },
    {
     "data": {
      "image/png": "[encoded data removed]",
      "text/plain": [
       "<matplotlib.figure.Figure at 0x7fcc8cff8550>"
      ]
     },
     "metadata": {},
     "output_type": "display_data"
    },
    {
     "data": {
      "image/png": "[encoded data removed]",
      "text/plain": [
       "<matplotlib.figure.Figure at 0x7fcc8cf86950>"
      ]
     },
     "metadata": {},
     "output_type": "display_data"
    },
    {
     "name": "stdout",
     "output_type": "stream",
     "text": [
      "plop ! une voiture est entrée dans l'autoroute !!\n"
     ]
    },
    {
     "data": {
      "image/png": "[encoded data removed]",
      "text/plain": [
       "<matplotlib.figure.Figure at 0x7fcc8d4f9b50>"
      ]
     },
     "metadata": {},
     "output_type": "display_data"
    },
    {
     "data": {
      "image/png": "[encoded data removed]",
      "text/plain": [
       "<matplotlib.figure.Figure at 0x7fcc8f6f33d0>"
      ]
     },
     "metadata": {},
     "output_type": "display_data"
    },
    {
     "data": {
      "image/png": "[encoded data removed]",
      "text/plain": [
       "<matplotlib.figure.Figure at 0x7fcc8d253590>"
      ]
     },
     "metadata": {},
     "output_type": "display_data"
    },
    {
     "data": {
      "image/png": "[encoded data removed]",
      "text/plain": [
       "<matplotlib.figure.Figure at 0x7fcc8d69b2d0>"
      ]
     },
     "metadata": {},
     "output_type": "display_data"
    },
    {
     "name": "stdout",
     "output_type": "stream",
     "text": [
      "plop ! une voiture est entrée dans l'autoroute !!\n",
      "plop ! une voiture est entrée dans l'autoroute !!\n"
     ]
    },
    {
     "data": {
      "image/png": "[encoded data removed]",
      "text/plain": [
       "<matplotlib.figure.Figure at 0x7fcc8d411ed0>"
      ]
     },
     "metadata": {},
     "output_type": "display_data"
    },
    {
     "data": {
      "image/png": "[encoded data removed]",
      "text/plain": [
       "<matplotlib.figure.Figure at 0x7fcc8d4ede90>"
      ]
     },
     "metadata": {},
     "output_type": "display_data"
    },
    {
     "data": {
      "image/png": "[encoded data removed]",
      "text/plain": [
       "<matplotlib.figure.Figure at 0x7fcc8d388f10>"
      ]
     },
     "metadata": {},
     "output_type": "display_data"
    },
    {
     "data": {
      "image/png": "[encoded data removed]",
      "text/plain": [
       "<matplotlib.figure.Figure at 0x7fcc8d097cd0>"
      ]
     },
     "metadata": {},
     "output_type": "display_data"
    }
   ],
   "source": [
    "for j in range(50):\n",
    "    road.update_route()\n",
    "    road.state_route\n",
    "    \n",
    "    plt.imshow(road.state_route)\n",
    "    plt.show()\n",
    "    plt.pause(0.1)\n",
    "    plt.cla()\n"
   ]
  },
  {
   "cell_type": "code",
   "execution_count": null,
   "metadata": {},
   "outputs": [],
   "source": [
    "plt.imshow(road.state_route)"
   ]
  },
  {
   "cell_type": "code",
   "execution_count": null,
   "metadata": {},
   "outputs": [],
   "source": [
    "E = [0,1,2,3,4,5,6,7,8,9,10]\n",
    "print(E[:5])\n",
    "print(E[5:])"
   ]
  },
  {
   "cell_type": "code",
   "execution_count": null,
   "metadata": {
    "scrolled": true
   },
   "outputs": [],
   "source": []
  },
  {
   "cell_type": "code",
   "execution_count": null,
   "metadata": {},
   "outputs": [],
   "source": []
  },
  {
   "cell_type": "code",
   "execution_count": null,
   "metadata": {},
   "outputs": [],
   "source": []
  },
  {
   "cell_type": "code",
   "execution_count": 87,
   "metadata": {},
   "outputs": [],
   "source": [
    "a = [1000,2000,300]"
   ]
  },
  {
   "cell_type": "code",
   "execution_count": 88,
   "metadata": {},
   "outputs": [],
   "source": [
    "a.insert(21, 1)"
   ]
  },
  {
   "cell_type": "code",
   "execution_count": null,
   "metadata": {},
   "outputs": [],
   "source": []
  },
  {
   "cell_type": "code",
   "execution_count": null,
   "metadata": {},
   "outputs": [],
   "source": []
  },
  {
   "cell_type": "code",
   "execution_count": 89,
   "metadata": {},
   "outputs": [
    {
     "data": {
      "text/plain": [
       "[1000, 2000, 300, 1]"
      ]
     },
     "execution_count": 89,
     "metadata": {},
     "output_type": "execute_result"
    }
   ],
   "source": [
    "a"
   ]
  },
  {
   "cell_type": "code",
   "execution_count": 32,
   "metadata": {},
   "outputs": [
    {
     "name": "stdout",
     "output_type": "stream",
     "text": [
      "(0, 2000)\n",
      "(1, 300)\n"
     ]
    }
   ],
   "source": [
    "for j, i in enumerate(a):\n",
    "    print(j, i)"
   ]
  },
  {
   "cell_type": "code",
   "execution_count": 17,
   "metadata": {},
   "outputs": [
    {
     "data": {
      "text/plain": [
       "[1, 2, 3]"
      ]
     },
     "execution_count": 17,
     "metadata": {},
     "output_type": "execute_result"
    }
   ],
   "source": [
    "a"
   ]
  },
  {
   "cell_type": "code",
   "execution_count": null,
   "metadata": {},
   "outputs": [],
   "source": []
  }
 ],
 "metadata": {
  "kernelspec": {
   "display_name": "Python 2",
   "language": "python",
   "name": "python2"
  },
  "language_info": {
   "codemirror_mode": {
    "name": "ipython",
    "version": 2
   },
   "file_extension": ".py",
   "mimetype": "text/x-python",
   "name": "python",
   "nbconvert_exporter": "python",
   "pygments_lexer": "ipython2",
   "version": "2.7.13"
  }
 },
 "nbformat": 4,
 "nbformat_minor": 2
}
