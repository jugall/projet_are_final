{
 "cells": [
  {
   "cell_type": "code",
   "execution_count": null,
   "metadata": {},
   "outputs": [],
   "source": [
    "from random import randint\n",
    "import numpy as np\n",
    "import matplotlib.pyplot as plt\n",
    "%matplotlib inline"
   ]
  },
  {
   "cell_type": "code",
   "execution_count": null,
   "metadata": {},
   "outputs": [],
   "source": [
    "class voiture:\n",
    "    \n",
    "    def __init__(self, x, v, proba):\n",
    "        self.x = x\n",
    "        self.v = v\n",
    "        self.dt = dt\n",
    "        self.proba = proba\n",
    "        #self.etat = 0 # 0 : en etat puis 1 : accident, ne bouge plus\n",
    "    \n",
    "    def roule(self, x, v, proba):\n",
    "        self.x = self.x + self.v\n"
   ]
  },
  {
   "cell_type": "code",
   "execution_count": null,
   "metadata": {},
   "outputs": [],
   "source": [
    "class route:\n",
    "    \n",
    "    def __init__(self, debit, x, v, proba):\n",
    "        #ajout\n",
    "        self.route = np.zeros(shape=(50, 3))\n",
    "        #\n",
    "        self.voitures = [voiture(self, x, v, proba) for i in debit]\n",
    "        self.grid = np.zeros(shape=(distance,3))\n",
    "        #self.distance = distance remettre l'argument dans init si besoin\n",
    "        self.bouchon = 0\n",
    "        self.state_route = self.grid\n",
    "        \n",
    "    def affichage_route() :\n",
    "        #print(self.route)\n",
    "        plt.imshow(self.route)\n",
    "        return None\n",
    "    \n",
    "    def update_route(self) : #un temps dt se sera deja ecoulé entre deux appelle a cette fonction\n",
    "        for item in self.voitures :\n",
    "            item.roule(self, x, v, proba)\n",
    "                    \n",
    "\n",
    "autoroute = route(1,0,1,10000)\n",
    "autoroute.affichage_route()"
   ]
  },
  {
   "cell_type": "code",
   "execution_count": null,
   "metadata": {},
   "outputs": [],
   "source": [
    "def simulation() :\n",
    "    \"\"\"le corps de la fonction, qui fait tourner l'horloge\"\"\"\n",
    "    \n",
    "    for i in range(1*3600) : #"
   ]
  },
  {
   "cell_type": "code",
   "execution_count": null,
   "metadata": {},
   "outputs": [],
   "source": []
  },
  {
   "cell_type": "code",
   "execution_count": null,
   "metadata": {},
   "outputs": [],
   "source": []
  },
  {
   "cell_type": "code",
   "execution_count": null,
   "metadata": {
    "scrolled": true
   },
   "outputs": [],
   "source": [
    "plt.imshow(arr)"
   ]
  },
  {
   "cell_type": "code",
   "execution_count": null,
   "metadata": {},
   "outputs": [],
   "source": []
  },
  {
   "cell_type": "code",
   "execution_count": null,
   "metadata": {},
   "outputs": [],
   "source": []
  }
 ],
 "metadata": {
  "kernelspec": {
   "display_name": "Python 2",
   "language": "python",
   "name": "python2"
  },
  "language_info": {
   "codemirror_mode": {
    "name": "ipython",
    "version": 2
   },
   "file_extension": ".py",
   "mimetype": "text/x-python",
   "name": "python",
   "nbconvert_exporter": "python",
   "pygments_lexer": "ipython2",
   "version": "2.7.13"
  }
 },
 "nbformat": 4,
 "nbformat_minor": 2
}
