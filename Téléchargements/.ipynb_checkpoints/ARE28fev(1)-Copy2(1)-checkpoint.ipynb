{
 "cells": [
  {
   "cell_type": "code",
   "execution_count": 46,
   "metadata": {},
   "outputs": [],
   "source": [
    "from random import randint\n",
    "import numpy as np\n",
    "import matplotlib.pyplot as plt\n",
    "%matplotlib inline"
   ]
  },
  {
   "cell_type": "code",
   "execution_count": 47,
   "metadata": {},
   "outputs": [],
   "source": [
    "class voiture:\n",
    "    \n",
    "    def __init__(self, x, v, dt, proba,name):\n",
    "        self.x = x\n",
    "        self.y = 2\n",
    "        self.v = v\n",
    "        self.dt = dt\n",
    "        self.temps = dt\n",
    "        self.proba = proba\n",
    "        self.etat = 0 #si different de 0 alors accident et stop traffic\n",
    "        self.j = name\n",
    "\n",
    "    def roule(self):\n",
    "        self.temps += 1\n",
    "        if self.etat == 0:\n",
    "            self.v =\n",
    "            self.x = self.x + self.v*self.dt\n",
    "            if self.proba == 0 :\n",
    "                self.accident = 0\n",
    "            else :\n",
    "                self.accident = randint(1, self.proba)\n",
    "            if self.accident == 1 and self.x>0:\n",
    "                self.etat = 4 \n",
    "                self.v = 0\n",
    "        else :\n",
    "            self.etat += -1\n",
    "        "
   ]
  },
  {
   "cell_type": "code",
   "execution_count": 59,
   "metadata": {},
   "outputs": [],
   "source": [
    "class route:\n",
    "    \n",
    "    def __init__(self, debit, distance, x, v, dt, proba):\n",
    "        #self.voitures = [voiture(x-2*i, v, dt, proba) for i in range(0,debit)]\n",
    "        self.voitures = [voiture(0,v,dt,proba,0)]\n",
    "        self.debit = debit\n",
    "        self.v = v\n",
    "        self.dt = dt\n",
    "        self.sortie =8\n",
    "        #fin de l'ajout\n",
    "        \n",
    "        self.grid = np.zeros(shape=(distance,5))\n",
    "        self.distance = distance\n",
    "        self.state_route = self.grid\n",
    "        self.proba = proba\n",
    "        self.v = v\n",
    "        self.dt = dt\n",
    "        \n",
    "        #truc pour le temps\n",
    "        self.inc = 0\n",
    "        self.voitures_passe = 0\n",
    "\n",
    "    def update_route(self):\n",
    "        self.state_route = np.zeros((self.distance, 5))\n",
    "        self.state_route[self.sortie][4] = 1\n",
    "        #les voitures avancent\n",
    "        for item in self.voitures:\n",
    "            if item.x>=0 and item.x<(self.distance-1) and self.state_route[item.x+1][item.y] != 0 and self.state_route[item.x][item.y+2] == 1:\n",
    "                item.y +=2\n",
    "            else:\n",
    "                if item.x>=0 and item.x<(self.distance-1) and self.state_route[item.x+1][item.y] != 0:\n",
    "                    self.etat = 2\n",
    "                    item.temps += 1\n",
    "                    self.state_route[item.x][item.y] = 2\n",
    "                    #truc \n",
    "                    item.roule()\n",
    "                else :\n",
    "                    item.roule()\n",
    "                    if item.x >= 0 and item.x < self.distance:\n",
    "                        self.state_route[item.x][item.y] = 3\n",
    "                        if item.etat != 0 :\n",
    "                            self.state_route[item.x][item.y] = 2\n",
    "            print([item.x for item in self.voitures])\n",
    "        \n",
    "        #generation de nouvelles voitures\n",
    "        self.inc += 1\n",
    "        if self.inc%self.debit == 0 and self.state_route[1][0] == 0 and self.state_route[1][1] == 0 and self.state_route[1][2] == 0:\n",
    "            self.voitures.append(voiture(0,self.v,self.dt,self.proba,self.inc))\n",
    "            print(\"plop ! une voiture est entrée dans l'autoroute !!\")\n",
    "            \n",
    "        #compteur de voitures passées\n",
    "        for i in self.voitures:\n",
    "            if i.x == self.distance :\n",
    "                print( \"ping ! la voiture \",i.j,\" a traversee l'autoroute ! elle a mis\",i.temps)\n",
    "                del i\n",
    "        "
   ]
  },
  {
   "cell_type": "code",
   "execution_count": 60,
   "metadata": {
    "scrolled": true
   },
   "outputs": [],
   "source": [
    "road = route(2,15,0,1,1,25)\n"
   ]
  },
  {
   "cell_type": "code",
   "execution_count": 61,
   "metadata": {
    "scrolled": false
   },
   "outputs": [
    {
     "name": "stdout",
     "output_type": "stream",
     "text": [
      "[1]\n"
     ]
    },
    {
     "data": {
      "image/png": "[encoded data removed]",
      "text/plain": [
       "<matplotlib.figure.Figure at 0x7fce097bc150>"
      ]
     },
     "metadata": {},
     "output_type": "display_data"
    },
    {
     "name": "stdout",
     "output_type": "stream",
     "text": [
      "[2]\n",
      "plop ! une voiture est entrée dans l'autoroute !!\n"
     ]
    },
    {
     "data": {
      "image/png": "[encoded data removed]",
      "text/plain": [
       "<matplotlib.figure.Figure at 0x7fce09891a10>"
      ]
     },
     "metadata": {},
     "output_type": "display_data"
    },
    {
     "name": "stdout",
     "output_type": "stream",
     "text": [
      "[3, 0]\n",
      "[3, 1]\n"
     ]
    },
    {
     "data": {
      "image/png": "[encoded data removed]",
      "text/plain": [
       "<matplotlib.figure.Figure at 0x7fce09b52c50>"
      ]
     },
     "metadata": {},
     "output_type": "display_data"
    },
    {
     "name": "stdout",
     "output_type": "stream",
     "text": [
      "[4, 1]\n",
      "[4, 2]\n",
      "plop ! une voiture est entrée dans l'autoroute !!\n"
     ]
    },
    {
     "data": {
      "image/png": "[encoded data removed]",
      "text/plain": [
       "<matplotlib.figure.Figure at 0x7fce0984d750>"
      ]
     },
     "metadata": {},
     "output_type": "display_data"
    },
    {
     "name": "stdout",
     "output_type": "stream",
     "text": [
      "[5, 2, 0]\n",
      "[5, 3, 0]\n",
      "[5, 3, 1]\n"
     ]
    },
    {
     "data": {
      "image/png": "[encoded data removed]",
      "text/plain": [
       "<matplotlib.figure.Figure at 0x7fce09d41d90>"
      ]
     },
     "metadata": {},
     "output_type": "display_data"
    },
    {
     "name": "stdout",
     "output_type": "stream",
     "text": [
      "[6, 3, 1]\n",
      "[6, 4, 1]\n",
      "[6, 4, 2]\n",
      "plop ! une voiture est entrée dans l'autoroute !!\n"
     ]
    },
    {
     "data": {
      "image/png": "[encoded data removed]",
      "text/plain": [
       "<matplotlib.figure.Figure at 0x7fce09978490>"
      ]
     },
     "metadata": {},
     "output_type": "display_data"
    },
    {
     "name": "stdout",
     "output_type": "stream",
     "text": [
      "[7, 4, 2, 0]\n",
      "[7, 4, 2, 0]\n",
      "[7, 4, 3, 0]\n",
      "[7, 4, 3, 1]\n"
     ]
    },
    {
     "data": {
      "image/png": "[encoded data removed]",
      "text/plain": [
       "<matplotlib.figure.Figure at 0x7fce09735f90>"
      ]
     },
     "metadata": {},
     "output_type": "display_data"
    },
    {
     "name": "stdout",
     "output_type": "stream",
     "text": [
      "[8, 4, 3, 1]\n",
      "[8, 4, 3, 1]\n",
      "[8, 4, 4, 1]\n",
      "[8, 4, 4, 2]\n",
      "plop ! une voiture est entrée dans l'autoroute !!\n"
     ]
    },
    {
     "data": {
      "image/png": "[encoded data removed]",
      "text/plain": [
       "<matplotlib.figure.Figure at 0x7fce09b15a90>"
      ]
     },
     "metadata": {},
     "output_type": "display_data"
    },
    {
     "name": "stdout",
     "output_type": "stream",
     "text": [
      "[9, 4, 4, 2, 0]\n",
      "[9, 4, 4, 2, 0]\n",
      "[9, 4, 5, 2, 0]\n",
      "[9, 4, 5, 3, 0]\n",
      "[9, 4, 5, 3, 1]\n"
     ]
    },
    {
     "data": {
      "image/png": "[encoded data removed]",
      "text/plain": [
       "<matplotlib.figure.Figure at 0x7fce099b83d0>"
      ]
     },
     "metadata": {},
     "output_type": "display_data"
    },
    {
     "name": "stdout",
     "output_type": "stream",
     "text": [
      "[10, 4, 5, 3, 1]\n",
      "[10, 4, 5, 3, 1]\n",
      "[10, 4, 6, 3, 1]\n",
      "[10, 4, 6, 4, 1]\n",
      "[10, 4, 6, 4, 2]\n",
      "plop ! une voiture est entrée dans l'autoroute !!\n"
     ]
    },
    {
     "data": {
      "image/png": "[encoded data removed]",
      "text/plain": [
       "<matplotlib.figure.Figure at 0x7fce0bf58490>"
      ]
     },
     "metadata": {},
     "output_type": "display_data"
    },
    {
     "name": "stdout",
     "output_type": "stream",
     "text": [
      "[11, 4, 6, 4, 2, 0]\n",
      "[11, 5, 6, 4, 2, 0]\n",
      "[11, 5, 7, 4, 2, 0]\n",
      "[11, 5, 7, 5, 2, 0]\n",
      "[11, 5, 7, 5, 2, 0]\n",
      "[11, 5, 7, 5, 2, 1]\n"
     ]
    },
    {
     "data": {
      "image/png": "[encoded data removed]",
      "text/plain": [
       "<matplotlib.figure.Figure at 0x7fce09a9a6d0>"
      ]
     },
     "metadata": {},
     "output_type": "display_data"
    },
    {
     "name": "stdout",
     "output_type": "stream",
     "text": [
      "[12, 5, 7, 5, 2, 1]\n",
      "[12, 6, 7, 5, 2, 1]\n",
      "[12, 6, 8, 5, 2, 1]\n",
      "[12, 6, 8, 6, 2, 1]\n",
      "[12, 6, 8, 6, 2, 1]\n",
      "[12, 6, 8, 6, 2, 2]\n"
     ]
    },
    {
     "data": {
      "image/png": "[encoded data removed]",
      "text/plain": [
       "<matplotlib.figure.Figure at 0x7fce09813190>"
      ]
     },
     "metadata": {},
     "output_type": "display_data"
    },
    {
     "name": "stdout",
     "output_type": "stream",
     "text": [
      "[13, 6, 8, 6, 2, 2]\n",
      "[13, 7, 8, 6, 2, 2]\n",
      "[13, 7, 9, 6, 2, 2]\n",
      "[13, 7, 9, 7, 2, 2]\n",
      "[13, 7, 9, 7, 2, 2]\n",
      "[13, 7, 9, 7, 2, 3]\n"
     ]
    },
    {
     "data": {
      "image/png": "[encoded data removed]",
      "text/plain": [
       "<matplotlib.figure.Figure at 0x7fce09be8050>"
      ]
     },
     "metadata": {},
     "output_type": "display_data"
    },
    {
     "name": "stdout",
     "output_type": "stream",
     "text": [
      "[14, 7, 9, 7, 2, 3]\n",
      "[14, 8, 9, 7, 2, 3]\n",
      "[14, 8, 10, 7, 2, 3]\n",
      "[14, 8, 10, 8, 2, 3]\n",
      "[14, 8, 10, 8, 2, 3]\n",
      "[14, 8, 10, 8, 2, 4]\n",
      "plop ! une voiture est entrée dans l'autoroute !!\n"
     ]
    },
    {
     "data": {
      "image/png": "[encoded data removed]",
      "text/plain": [
       "<matplotlib.figure.Figure at 0x7fce098a3f90>"
      ]
     },
     "metadata": {},
     "output_type": "display_data"
    },
    {
     "name": "stdout",
     "output_type": "stream",
     "text": [
      "[15, 8, 10, 8, 2, 4, 0]\n",
      "[15, 9, 10, 8, 2, 4, 0]\n",
      "[15, 9, 11, 8, 2, 4, 0]\n",
      "[15, 9, 11, 8, 2, 4, 0]\n",
      "[15, 9, 11, 8, 3, 4, 0]\n",
      "[15, 9, 11, 8, 3, 5, 0]\n",
      "[15, 9, 11, 8, 3, 5, 1]\n",
      "('ping ! la voiture ', 0, \" a traversee l'autoroute ! elle a mis\", 16)\n"
     ]
    },
    {
     "data": {
      "image/png": "[encoded data removed]",
      "text/plain": [
       "<matplotlib.figure.Figure at 0x7fce09ba6d50>"
      ]
     },
     "metadata": {},
     "output_type": "display_data"
    },
    {
     "name": "stdout",
     "output_type": "stream",
     "text": [
      "[16, 9, 11, 8, 3, 5, 1]\n",
      "[16, 10, 11, 8, 3, 5, 1]\n",
      "[16, 10, 12, 8, 3, 5, 1]\n",
      "[16, 10, 12, 9, 3, 5, 1]\n",
      "[16, 10, 12, 9, 4, 5, 1]\n",
      "[16, 10, 12, 9, 4, 5, 1]\n",
      "[16, 10, 12, 9, 4, 5, 2]\n",
      "plop ! une voiture est entrée dans l'autoroute !!\n"
     ]
    },
    {
     "data": {
      "image/png": "[encoded data removed]",
      "text/plain": [
       "<matplotlib.figure.Figure at 0x7fce09b5df50>"
      ]
     },
     "metadata": {},
     "output_type": "display_data"
    },
    {
     "name": "stdout",
     "output_type": "stream",
     "text": [
      "[17, 10, 12, 9, 4, 5, 2, 0]\n",
      "[17, 11, 12, 9, 4, 5, 2, 0]\n",
      "[17, 11, 13, 9, 4, 5, 2, 0]\n",
      "[17, 11, 13, 10, 4, 5, 2, 0]\n",
      "[17, 11, 13, 10, 5, 5, 2, 0]\n",
      "[17, 11, 13, 10, 5, 5, 2, 0]\n",
      "[17, 11, 13, 10, 5, 5, 3, 0]\n",
      "[17, 11, 13, 10, 5, 5, 3, 1]\n"
     ]
    },
    {
     "data": {
      "image/png": "[encoded data removed]",
      "text/plain": [
       "<matplotlib.figure.Figure at 0x7fce09c86f10>"
      ]
     },
     "metadata": {},
     "output_type": "display_data"
    },
    {
     "name": "stdout",
     "output_type": "stream",
     "text": [
      "[18, 11, 13, 10, 5, 5, 3, 1]\n",
      "[18, 12, 13, 10, 5, 5, 3, 1]\n",
      "[18, 12, 14, 10, 5, 5, 3, 1]\n",
      "[18, 12, 14, 11, 5, 5, 3, 1]\n",
      "[18, 12, 14, 11, 6, 5, 3, 1]\n",
      "[18, 12, 14, 11, 6, 5, 3, 1]\n",
      "[18, 12, 14, 11, 6, 5, 4, 1]\n",
      "[18, 12, 14, 11, 6, 5, 4, 2]\n",
      "plop ! une voiture est entrée dans l'autoroute !!\n"
     ]
    },
    {
     "data": {
      "image/png": "[encoded data removed]",
      "text/plain": [
       "<matplotlib.figure.Figure at 0x7fce09dadcd0>"
      ]
     },
     "metadata": {},
     "output_type": "display_data"
    },
    {
     "name": "stdout",
     "output_type": "stream",
     "text": [
      "[19, 12, 14, 11, 6, 5, 4, 2, 0]\n",
      "[19, 13, 14, 11, 6, 5, 4, 2, 0]\n",
      "[19, 13, 15, 11, 6, 5, 4, 2, 0]\n",
      "[19, 13, 15, 12, 6, 5, 4, 2, 0]\n",
      "[19, 13, 15, 12, 7, 5, 4, 2, 0]\n",
      "[19, 13, 15, 12, 7, 5, 4, 2, 0]\n",
      "[19, 13, 15, 12, 7, 5, 5, 2, 0]\n",
      "[19, 13, 15, 12, 7, 5, 5, 3, 0]\n",
      "[19, 13, 15, 12, 7, 5, 5, 3, 1]\n",
      "('ping ! la voiture ', 4, \" a traversee l'autoroute ! elle a mis\", 17)\n"
     ]
    },
    {
     "data": {
      "image/png": "[encoded data removed]",
      "text/plain": [
       "<matplotlib.figure.Figure at 0x7fce09d0f3d0>"
      ]
     },
     "metadata": {},
     "output_type": "display_data"
    },
    {
     "name": "stdout",
     "output_type": "stream",
     "text": [
      "[20, 13, 15, 12, 7, 5, 5, 3, 1]\n",
      "[20, 14, 15, 12, 7, 5, 5, 3, 1]\n",
      "[20, 14, 16, 12, 7, 5, 5, 3, 1]\n",
      "[20, 14, 16, 13, 7, 5, 5, 3, 1]\n",
      "[20, 14, 16, 13, 8, 5, 5, 3, 1]\n",
      "[20, 14, 16, 13, 8, 6, 5, 3, 1]\n",
      "[20, 14, 16, 13, 8, 6, 6, 3, 1]\n",
      "[20, 14, 16, 13, 8, 6, 6, 4, 1]\n",
      "[20, 14, 16, 13, 8, 6, 6, 4, 2]\n",
      "plop ! une voiture est entrée dans l'autoroute !!\n"
     ]
    },
    {
     "data": {
      "image/png": "[encoded data removed]",
      "text/plain": [
       "<matplotlib.figure.Figure at 0x7fce098967d0>"
      ]
     },
     "metadata": {},
     "output_type": "display_data"
    },
    {
     "name": "stdout",
     "output_type": "stream",
     "text": [
      "[21, 14, 16, 13, 8, 6, 6, 4, 2, 0]\n",
      "[21, 15, 16, 13, 8, 6, 6, 4, 2, 0]\n",
      "[21, 15, 17, 13, 8, 6, 6, 4, 2, 0]\n",
      "[21, 15, 17, 14, 8, 6, 6, 4, 2, 0]\n",
      "[21, 15, 17, 14, 9, 6, 6, 4, 2, 0]\n",
      "[21, 15, 17, 14, 9, 7, 6, 4, 2, 0]\n",
      "[21, 15, 17, 14, 9, 7, 7, 4, 2, 0]\n",
      "[21, 15, 17, 14, 9, 7, 7, 4, 2, 0]\n",
      "[21, 15, 17, 14, 9, 7, 7, 4, 3, 0]\n",
      "[21, 15, 17, 14, 9, 7, 7, 4, 3, 1]\n",
      "('ping ! la voiture ', 2, \" a traversee l'autoroute ! elle a mis\", 20)\n"
     ]
    },
    {
     "data": {
      "image/png": "[encoded data removed]",
      "text/plain": [
       "<matplotlib.figure.Figure at 0x7fce0beb9650>"
      ]
     },
     "metadata": {},
     "output_type": "display_data"
    },
    {
     "name": "stdout",
     "output_type": "stream",
     "text": [
      "[22, 15, 17, 14, 9, 7, 7, 4, 3, 1]\n",
      "[22, 16, 17, 14, 9, 7, 7, 4, 3, 1]\n",
      "[22, 16, 18, 14, 9, 7, 7, 4, 3, 1]\n",
      "[22, 16, 18, 15, 9, 7, 7, 4, 3, 1]\n",
      "[22, 16, 18, 15, 9, 7, 7, 4, 3, 1]\n",
      "[22, 16, 18, 15, 9, 8, 7, 4, 3, 1]\n",
      "[22, 16, 18, 15, 9, 8, 8, 4, 3, 1]\n",
      "[22, 16, 18, 15, 9, 8, 8, 4, 3, 1]\n",
      "[22, 16, 18, 15, 9, 8, 8, 4, 4, 1]\n",
      "[22, 16, 18, 15, 9, 8, 8, 4, 4, 2]\n",
      "plop ! une voiture est entrée dans l'autoroute !!\n",
      "('ping ! la voiture ', 6, \" a traversee l'autoroute ! elle a mis\", 21)\n"
     ]
    },
    {
     "data": {
      "image/png": "[encoded data removed]",
      "text/plain": [
       "<matplotlib.figure.Figure at 0x7fce3c160fd0>"
      ]
     },
     "metadata": {},
     "output_type": "display_data"
    },
    {
     "name": "stdout",
     "output_type": "stream",
     "text": [
      "[23, 16, 18, 15, 9, 8, 8, 4, 4, 2, 0]\n",
      "[23, 17, 18, 15, 9, 8, 8, 4, 4, 2, 0]\n",
      "[23, 17, 19, 15, 9, 8, 8, 4, 4, 2, 0]\n",
      "[23, 17, 19, 16, 9, 8, 8, 4, 4, 2, 0]\n",
      "[23, 17, 19, 16, 9, 8, 8, 4, 4, 2, 0]\n",
      "[23, 17, 19, 16, 9, 8, 8, 4, 4, 2, 0]\n",
      "[23, 17, 19, 16, 9, 8, 8, 4, 4, 2, 0]\n",
      "[23, 17, 19, 16, 9, 8, 8, 4, 4, 2, 0]\n",
      "[23, 17, 19, 16, 9, 8, 8, 4, 5, 2, 0]\n",
      "[23, 17, 19, 16, 9, 8, 8, 4, 5, 3, 0]\n",
      "[23, 17, 19, 16, 9, 8, 8, 4, 5, 3, 1]\n"
     ]
    },
    {
     "data": {
      "image/png": "[encoded data removed]",
      "text/plain": [
       "<matplotlib.figure.Figure at 0x7fce09c333d0>"
      ]
     },
     "metadata": {},
     "output_type": "display_data"
    },
    {
     "name": "stdout",
     "output_type": "stream",
     "text": [
      "[24, 17, 19, 16, 9, 8, 8, 4, 5, 3, 1]\n",
      "[24, 18, 19, 16, 9, 8, 8, 4, 5, 3, 1]\n",
      "[24, 18, 20, 16, 9, 8, 8, 4, 5, 3, 1]\n",
      "[24, 18, 20, 17, 9, 8, 8, 4, 5, 3, 1]\n",
      "[24, 18, 20, 17, 9, 8, 8, 4, 5, 3, 1]\n",
      "[24, 18, 20, 17, 9, 9, 8, 4, 5, 3, 1]\n"
     ]
    },
    {
     "ename": "IndexError",
     "evalue": "index 6 is out of bounds for axis 0 with size 5",
     "output_type": "error",
     "traceback": [
      "\u001b[0;31m---------------------------------------------------------------------------\u001b[0m",
      "\u001b[0;31mIndexError\u001b[0m                                Traceback (most recent call last)",
      "\u001b[0;32m<ipython-input-61-352b518035df>\u001b[0m in \u001b[0;36m<module>\u001b[0;34m()\u001b[0m\n\u001b[1;32m      1\u001b[0m \u001b[0;32mfor\u001b[0m \u001b[0mj\u001b[0m \u001b[0;32min\u001b[0m \u001b[0mrange\u001b[0m\u001b[0;34m(\u001b[0m\u001b[0;36m50\u001b[0m\u001b[0;34m)\u001b[0m\u001b[0;34m:\u001b[0m\u001b[0;34m\u001b[0m\u001b[0m\n\u001b[0;32m----> 2\u001b[0;31m     \u001b[0mroad\u001b[0m\u001b[0;34m.\u001b[0m\u001b[0mupdate_route\u001b[0m\u001b[0;34m(\u001b[0m\u001b[0;34m)\u001b[0m\u001b[0;34m\u001b[0m\u001b[0m\n\u001b[0m\u001b[1;32m      3\u001b[0m     \u001b[0mroad\u001b[0m\u001b[0;34m.\u001b[0m\u001b[0mstate_route\u001b[0m\u001b[0;34m\u001b[0m\u001b[0m\n\u001b[1;32m      4\u001b[0m \u001b[0;34m\u001b[0m\u001b[0m\n\u001b[1;32m      5\u001b[0m     \u001b[0mplt\u001b[0m\u001b[0;34m.\u001b[0m\u001b[0mimshow\u001b[0m\u001b[0;34m(\u001b[0m\u001b[0mroad\u001b[0m\u001b[0;34m.\u001b[0m\u001b[0mstate_route\u001b[0m\u001b[0;34m)\u001b[0m\u001b[0;34m\u001b[0m\u001b[0m\n",
      "\u001b[0;32m<ipython-input-59-c048526c4779>\u001b[0m in \u001b[0;36mupdate_route\u001b[0;34m(self)\u001b[0m\n\u001b[1;32m     26\u001b[0m         \u001b[0;31m#les voitures avancent\u001b[0m\u001b[0;34m\u001b[0m\u001b[0;34m\u001b[0m\u001b[0m\n\u001b[1;32m     27\u001b[0m         \u001b[0;32mfor\u001b[0m \u001b[0mitem\u001b[0m \u001b[0;32min\u001b[0m \u001b[0mself\u001b[0m\u001b[0;34m.\u001b[0m\u001b[0mvoitures\u001b[0m\u001b[0;34m:\u001b[0m\u001b[0;34m\u001b[0m\u001b[0m\n\u001b[0;32m---> 28\u001b[0;31m             \u001b[0;32mif\u001b[0m \u001b[0mitem\u001b[0m\u001b[0;34m.\u001b[0m\u001b[0mx\u001b[0m\u001b[0;34m>=\u001b[0m\u001b[0;36m0\u001b[0m \u001b[0;32mand\u001b[0m \u001b[0mitem\u001b[0m\u001b[0;34m.\u001b[0m\u001b[0mx\u001b[0m\u001b[0;34m<\u001b[0m\u001b[0;34m(\u001b[0m\u001b[0mself\u001b[0m\u001b[0;34m.\u001b[0m\u001b[0mdistance\u001b[0m\u001b[0;34m-\u001b[0m\u001b[0;36m1\u001b[0m\u001b[0;34m)\u001b[0m \u001b[0;32mand\u001b[0m \u001b[0mself\u001b[0m\u001b[0;34m.\u001b[0m\u001b[0mstate_route\u001b[0m\u001b[0;34m[\u001b[0m\u001b[0mitem\u001b[0m\u001b[0;34m.\u001b[0m\u001b[0mx\u001b[0m\u001b[0;34m+\u001b[0m\u001b[0;36m1\u001b[0m\u001b[0;34m]\u001b[0m\u001b[0;34m[\u001b[0m\u001b[0mitem\u001b[0m\u001b[0;34m.\u001b[0m\u001b[0my\u001b[0m\u001b[0;34m]\u001b[0m \u001b[0;34m!=\u001b[0m \u001b[0;36m0\u001b[0m \u001b[0;32mand\u001b[0m \u001b[0mself\u001b[0m\u001b[0;34m.\u001b[0m\u001b[0mstate_route\u001b[0m\u001b[0;34m[\u001b[0m\u001b[0mitem\u001b[0m\u001b[0;34m.\u001b[0m\u001b[0mx\u001b[0m\u001b[0;34m]\u001b[0m\u001b[0;34m[\u001b[0m\u001b[0mitem\u001b[0m\u001b[0;34m.\u001b[0m\u001b[0my\u001b[0m\u001b[0;34m+\u001b[0m\u001b[0;36m2\u001b[0m\u001b[0;34m]\u001b[0m \u001b[0;34m==\u001b[0m \u001b[0;36m1\u001b[0m\u001b[0;34m:\u001b[0m\u001b[0;34m\u001b[0m\u001b[0m\n\u001b[0m\u001b[1;32m     29\u001b[0m                 \u001b[0mitem\u001b[0m\u001b[0;34m.\u001b[0m\u001b[0my\u001b[0m \u001b[0;34m+=\u001b[0m\u001b[0;36m2\u001b[0m\u001b[0;34m\u001b[0m\u001b[0m\n\u001b[1;32m     30\u001b[0m             \u001b[0;32melse\u001b[0m\u001b[0;34m:\u001b[0m\u001b[0;34m\u001b[0m\u001b[0m\n",
      "\u001b[0;31mIndexError\u001b[0m: index 6 is out of bounds for axis 0 with size 5"
     ]
    },
    {
     "data": {
      "image/png": "[encoded data removed]",
      "text/plain": [
       "<matplotlib.figure.Figure at 0x7fce099c4b50>"
      ]
     },
     "metadata": {},
     "output_type": "display_data"
    }
   ],
   "source": [
    "for j in range(50):\n",
    "    road.update_route()\n",
    "    road.state_route\n",
    "    \n",
    "    plt.imshow(road.state_route)\n",
    "    plt.show()\n",
    "    plt.pause(0.1)\n",
    "    plt.cla()\n"
   ]
  },
  {
   "cell_type": "code",
   "execution_count": null,
   "metadata": {},
   "outputs": [],
   "source": [
    "plt.imshow(road.state_route)"
   ]
  },
  {
   "cell_type": "code",
   "execution_count": null,
   "metadata": {},
   "outputs": [],
   "source": []
  },
  {
   "cell_type": "code",
   "execution_count": null,
   "metadata": {
    "scrolled": true
   },
   "outputs": [],
   "source": []
  },
  {
   "cell_type": "code",
   "execution_count": null,
   "metadata": {},
   "outputs": [],
   "source": []
  },
  {
   "cell_type": "code",
   "execution_count": null,
   "metadata": {},
   "outputs": [],
   "source": []
  },
  {
   "cell_type": "code",
   "execution_count": null,
   "metadata": {},
   "outputs": [],
   "source": []
  }
 ],
 "metadata": {
  "kernelspec": {
   "display_name": "Python 2",
   "language": "python",
   "name": "python2"
  },
  "language_info": {
   "codemirror_mode": {
    "name": "ipython",
    "version": 2
   },
   "file_extension": ".py",
   "mimetype": "text/x-python",
   "name": "python",
   "nbconvert_exporter": "python",
   "pygments_lexer": "ipython2",
   "version": "2.7.13"
  }
 },
 "nbformat": 4,
 "nbformat_minor": 2
}
