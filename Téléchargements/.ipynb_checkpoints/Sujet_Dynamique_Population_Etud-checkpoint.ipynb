{
 "cells": [
  {
   "cell_type": "code",
   "execution_count": 1,
   "metadata": {},
   "outputs": [],
   "source": [
    "%matplotlib inline     \n",
    "# ^Sans animations\n",
    "# %matplotlib notebook \n",
    "# ^Avec animations\n",
    "import numpy as np\n",
    "import matplotlib.pyplot as plt\n",
    "from matplotlib import animation"
   ]
  },
  {
   "cell_type": "markdown",
   "metadata": {},
   "source": [
    "# Dynamique de population et Génétique"
   ]
  },
  {
   "cell_type": "markdown",
   "metadata": {},
   "source": [
    "*Sujet d'ARE Dynamic 2019*"
   ]
  },
  {
   "cell_type": "markdown",
   "metadata": {},
   "source": [
    "# 1. Modèle de Galton-Watson "
   ]
  },
  {
   "cell_type": "markdown",
   "metadata": {},
   "source": [
    "[Francis Galton](https://fr.wikipedia.org/wiki/Francis_Galton) (1822-1911) est un scientifique anglais touche-à-tout, ayant des contributions de l'anthropologie à la psychologie en passant par les statistiques. Il consacre une part importante de ses recherches à défendre la théorie de l'évolution de son cousin, Charles Darwin. Il est considéré comme l'un des fondateurs de la biométrie, il découvre l'identification par empreintes digitales, cependant il est aussi l'un des fondateurs de l'[eugénisme](https://fr.wikipedia.org/wiki/Eug%C3%A9nisme) et soutient des politiques publiques peu glorieuses. \n",
    "\n",
    "Au cours du XIXème siècle il s'intéresse à la disparition des patronymes. Pour ce faire, il introduit le [modèle de Galton-Watson](https://fr.wikipedia.org/wiki/Processus_de_Galton-Watson) permettant de modéliser la dynamique d'une population. Introduit une première fois en 1845 par [Irénée-Jules Bienaymé](https://fr.wikipedia.org/wiki/Ir%C3%A9n%C3%A9e-Jules_Bienaym%C3%A9).\n",
    "\n",
    "### Comment modéliser un tel phénomène ?\n",
    "\n",
    "Considérons un ensemble d'**individus** formant une **population**. Par soucis de simplicité nous faisons abstraction des modalités de reproduction, couple, genre, etc...  \n",
    "Chaque individu de la population est modélisé par une **variable** $X$ représentant sa capacité de reproduction, c'est-à-dire son nombre de descendants.  \n",
    "Chaque individu de la population peut avoir $k$ descendants avec probabilité $p_k$ : $\\mathbb{P}(X = k) = p_k$ avec $\\sum_k p_k =1$.  "
   ]
  },
  {
   "cell_type": "markdown",
   "metadata": {},
   "source": [
    "Commençons par modéliser un individu : la variable $X$."
   ]
  },
  {
   "cell_type": "code",
   "execution_count": 2,
   "metadata": {},
   "outputs": [],
   "source": [
    "# Dictionnaire représentant la distribution de probabilité des descendants.\n",
    "# clef = nombre de descendants et valeur = probabilité\n",
    "p = {0 : 0.5,\n",
    "     1 : 0.2,\n",
    "     2 : 0.2,\n",
    "     3 : 0.1}\n",
    "\n",
    "# Let's assert that this is a probalitiy distribution:\n",
    "np.testing.assert_almost_equal(sum(p.values()),1)"
   ]
  },
  {
   "cell_type": "code",
   "execution_count": 3,
   "metadata": {},
   "outputs": [],
   "source": [
    "def number_of_descendants(p):\n",
    "    '''\n",
    "    dict[int:float]->int\n",
    "    Étant donnée une distibution de probabilité 'p', la fonction retourne le nombre de descendants d'un individu.\n",
    "    '''\n",
    "    u = np.random.random()\n",
    "    s = 0\n",
    "    for k in p.keys():\n",
    "        s += p[k]\n",
    "        if u < s:\n",
    "            return k"
   ]
  },
  {
   "cell_type": "markdown",
   "metadata": {},
   "source": [
    "**Question 1.1 :** Remplacer la distribution $p$ par une distribution qui vous semble cohérente, puis tester cette fonction. (Par exemple, vous pourrez tirer un certain nombre de fois un nombre de descendants selon cette fonction, puis vérifier que la distribution observée est conforme.)"
   ]
  },
  {
   "cell_type": "code",
   "execution_count": 24,
   "metadata": {},
   "outputs": [],
   "source": [
    "p={0 : 0.2,\n",
    "   1 : 0.5,\n",
    "   2 : 0.2,\n",
    "   3 : 0.1}"
   ]
  },
  {
   "cell_type": "markdown",
   "metadata": {},
   "source": [
    "Modélisons maintenant cette population et son évolution au fil des générations.  \n",
    "Soit $Z_n$ la population de la n-ème génération. $Z_{n+1} = \\sum_{i=1}^{Z_n}X$."
   ]
  },
  {
   "cell_type": "code",
   "execution_count": 25,
   "metadata": {},
   "outputs": [],
   "source": [
    "\n",
    "def update_population(Z,p):\n",
    "    '''\n",
    "    int*dict[int:float]->int\n",
    "    Étant donnés un nombre d'individus 'C' et une distibution de probabilité de descendants 'p',\n",
    "    la fonction retourne le nombre d'individus à la prochaine génération.\n",
    "    '''\n",
    "    Z_new = 0\n",
    "    for k in range(Z):\n",
    "        #sum up all the descendants over all the population Z\n",
    "        Z_new += number_of_descendants(p)\n",
    "    return Z_new\n"
   ]
  },
  {
   "cell_type": "markdown",
   "metadata": {},
   "source": [
    "**Question 1.2 :** Compléter la fonction \"population_n_generations\" ci-dessous qui, étant donné un nombre d'invidus de départ $Z_0$, une distribution de probabilité de descendants $p$ et un nombre de générations $n$, retourne une liste $L$ telle que $L[i]$ soit le nombre d'individus à la génération $i$ pour $i$ de $0$ à $n-1$."
   ]
  },
  {
   "cell_type": "code",
   "execution_count": 26,
   "metadata": {},
   "outputs": [
    {
     "name": "stdout",
     "output_type": "stream",
     "text": [
      "[20, 19, 23, 27, 29, 34, 43, 64, 68, 73]\n"
     ]
    }
   ],
   "source": [
    "\n",
    "def population_n_generations(Z0,p,n):\n",
    "    \"\"\"\n",
    "     int*dict[int:float]*int->list[int]\n",
    "     ...\n",
    "    \"\"\"\n",
    "    #L:list[int]\n",
    "    L=[]\n",
    "    #Z:int\n",
    "    Z=Z0\n",
    "    #k:int\n",
    "    for k in range(0,n):\n",
    "        L.append(update_population(Z,p))\n",
    "        Z=L[k]\n",
    "    return L\n",
    "\n",
    "#test pour 10 générations, population initiale 20 individus\n",
    "Z0 = 20\n",
    "n = 10\n",
    "print(population_n_generations(Z0,p,n))"
   ]
  },
  {
   "cell_type": "markdown",
   "metadata": {},
   "source": [
    "À présent, visualisons l'évolution de cette population. Vous pouvez changer $n$, $Z_0$ et $p$."
   ]
  },
  {
   "cell_type": "code",
   "execution_count": 27,
   "metadata": {},
   "outputs": [
    {
     "data": {
      "image/png": "[encoded data removed]",
      "text/plain": [
       "<Figure size 432x288 with 1 Axes>"
      ]
     },
     "metadata": {},
     "output_type": "display_data"
    }
   ],
   "source": [
    "n = 300\n",
    "Z0 = 40\n",
    "p = {0 : 0.4,\n",
    "     1 : 0.3,\n",
    "     2 : 0.2,\n",
    "     3 : 0.1}\n",
    "np.testing.assert_almost_equal(sum(p.values()),1)\n",
    "\n",
    "def plot_population(L):\n",
    "    '''\n",
    "    ??-> None\n",
    "    Visualise the evolution of the population in 'L'\n",
    "    '''\n",
    "    plt.figure()\n",
    "    plt.plot(L)\n",
    "    plt.ylabel(\"Taille Population\")\n",
    "    plt.xlabel(\"Génération\")\n",
    "    plt.show()\n",
    "    return\n",
    "\n",
    "    \n",
    "L=population_n_generations(Z0,p,n)\n",
    "plot_population(L)"
   ]
  },
  {
   "cell_type": "markdown",
   "metadata": {},
   "source": [
    "**Question 1.3** : Pour la capacité de reproduction $p$ donnée en exemple, observez-vous toujours une extinction de la population ?  Si c'est le cas, déterminez combien de générations sont nécessaires *en moyenne* avant que la population ne s'éteigne ?"
   ]
  },
  {
   "cell_type": "markdown",
   "metadata": {},
   "source": [
    "On appelle espérance d'une variable discrète $X$ : $\\mathbb{E}[X] = \\sum_k p_kk$"
   ]
  },
  {
   "cell_type": "markdown",
   "metadata": {},
   "source": [
    "**Question 1.4**: Compléter la fonction \"esperance\" ci-dessous permettant de calculer l'espérance d'une variable discrète $X$."
   ]
  },
  {
   "cell_type": "code",
   "execution_count": 8,
   "metadata": {},
   "outputs": [
    {
     "name": "stdout",
     "output_type": "stream",
     "text": [
      "k:0, v: 0.2\n",
      "k:1, v: 0.2\n",
      "k:2, v: 0.5\n",
      "k:3, v: 0.1\n"
     ]
    }
   ],
   "source": [
    "\n",
    "p = {0 : 0.2,\n",
    "     1 : 0.2,\n",
    "     2 : 0.5,\n",
    "     3 : 0.1}\n",
    "for k, v in p.items():\n",
    "    print(\"k:{}, v: {}\".format(k, v))"
   ]
  },
  {
   "cell_type": "code",
   "execution_count": 9,
   "metadata": {},
   "outputs": [
    {
     "name": "stdout",
     "output_type": "stream",
     "text": [
      "1.5\n"
     ]
    }
   ],
   "source": [
    "def esperance(p):\n",
    "    \"\"\"\n",
    "    dict[int:float]->float\n",
    "    ...\n",
    "    \"\"\"\n",
    "    e=0\n",
    "    for k,v in p.items():\n",
    "        e=e+(v*k)\n",
    "    \n",
    "    return e\n",
    "\n",
    "p = {0 : 0.2,\n",
    "     1 : 0.2,\n",
    "     2 : 0.5,\n",
    "     3 : 0.1}\n",
    "\n",
    "print(esperance(p))\n",
    "\n"
   ]
  },
  {
   "cell_type": "markdown",
   "metadata": {},
   "source": [
    "**Question 1.5**: Prenez à présent une capacité de reproduction dont l'espérance est 1.5 (testez que c'est bien le cas à l'aide de votre fonction précédente), et reproduisez l'expérience de la question 1.3. "
   ]
  },
  {
   "cell_type": "code",
   "execution_count": 10,
   "metadata": {},
   "outputs": [
    {
     "data": {
      "image/png": "[encoded data removed]",
      "text/plain": [
       "<Figure size 432x288 with 1 Axes>"
      ]
     },
     "metadata": {},
     "output_type": "display_data"
    }
   ],
   "source": [
    "n = 40\n",
    "Z0 = 3\n",
    "p = {0 : 0.2,\n",
    "     1 : 0.2,\n",
    "     2 : 0.5,\n",
    "     3 : 0.1}\n",
    "\n",
    "L=population_n_generations(Z0,p,n)\n",
    "plot_population(L)"
   ]
  },
  {
   "cell_type": "markdown",
   "metadata": {},
   "source": [
    "**Question 1.6** : Jouer sur le paramètre $e = \\mathbb{E}[X]$ et déterminer une valeure qui semble jouer un rôle critique dans le fait que la population va s'éteindre ou pas."
   ]
  },
  {
   "cell_type": "markdown",
   "metadata": {},
   "source": [
    "**Question 1.7** : Que se passe-t-il lorsque $Z_0$ et $n$ sont grands ?"
   ]
  },
  {
   "cell_type": "markdown",
   "metadata": {},
   "source": [
    "La population augmente tres rapidement, la compilation est lente "
   ]
  },
  {
   "cell_type": "markdown",
   "metadata": {},
   "source": [
    "# 2. Island Model"
   ]
  },
  {
   "cell_type": "markdown",
   "metadata": {},
   "source": [
    "Dans cette seconde partie, le but est d'analyser la répartition et la dissémination des allèles au sein d'une population, répartie dans différentes zones géographiques, tout en prenant en compte les migrations.  \n",
    "\n",
    "**Rappel :** Un allèle est une version variable d'un même gène. En général, il existe deux allèles pour chaque gène. Par exemple : si nous possèdons l'allèle brun nous avons les cheveux bruns, si nous ne l'avons pas nous avons les cheveux blonds. (extrême simplification, ne pas répéter à un biologiste).\n",
    "\n",
    "Imaginons trois iles distinctes $A$, $B$ et $C$, sur chaque île réside une population distincte. Dans chaque population nous constatons une proportion différente de personne possédant un certain allèle. La distribution de cet allèle est notée par : $p_i$ pour $i\\in \\{A,B,C\\}$.\n"
   ]
  },
  {
   "cell_type": "markdown",
   "metadata": {},
   "source": [
    "![Island Model](Island_Model.png \"Island_Model\")"
   ]
  },
  {
   "cell_type": "markdown",
   "metadata": {},
   "source": [
    "Par exemple : $p_A$ représente le pourcentage de la population de l'ile $A$ ayant les cheveux bruns.  \n",
    "\n",
    "**Hypothèse 1:** La population globale $Z$ est considérée comme fixe et équirépartie entre les trois îles, chaque île comporte donc $Z/3$ individus. \n",
    "La population étant considérée comme stable, chaque individu laisse place à un seul individu à la génération suivante. Dans un premier temps nous ignorons donc le renouvelement de la population.  \n",
    "\n",
    "Nous observons une migration d'une **fraction** $m$ d'une île à une autre au fil des générations, celle-ci est cependant équilibrée, à double sens, le nombre d'invidus par île ne varie donc pas. Par exmple, pour $m=0.1$, à chaque génération $10\\%$ de la population va migrer de chaque île vers les autres. Cette fraction ne peut donc pas excéder $0.5$ (dans ce cas la totalité de la population migre de chaque île). \n",
    "\n",
    "Dans cette partie, nous chercherons à répondre à la question suivante : Comment les migrations impactent la distribution d'un allèle au sein des 3 îles ?\n"
   ]
  },
  {
   "cell_type": "markdown",
   "metadata": {},
   "source": [
    "Modélisons l'évolution de la proportion de la population possédant notre allèle (les cheveux bruns) au sein de chaque île. Notons par $p_{A,n}$ la distribution de notre allèle dans l'ile $A$ à la génération $n$.  \n",
    "\n",
    "On a $p_{A,n+1} = \\frac{p_{A,n}\\frac{Z}{3}(1 - 2m) + p_{B,n}\\frac{Z}{3}m + p_{C,n}\\frac{Z}{3}m}{\\frac{Z}{3}}$  \n",
    "\n",
    "et donc $p_{A,n+1} = p_{A,n}(1 - 2m) + p_{B,n}m + p_{C,n}m$."
   ]
  },
  {
   "cell_type": "markdown",
   "metadata": {},
   "source": [
    "**Question 2.1 :** Expliquer cette formule. Quant est-il pour $p_{B,n+1}$ et $p_{C,n+1}$ ?"
   ]
  },
  {
   "cell_type": "code",
   "execution_count": 11,
   "metadata": {},
   "outputs": [],
   "source": [
    "# Nous utiliserons les paramètres suivants.\n",
    "\n",
    "m = 0.01 # coefficient de migration\n",
    "\n",
    "p = {'A' : 0.5,\n",
    "    'B' : 0.2,\n",
    "    'C' : 0.8} # Initial probability to have brown hair"
   ]
  },
  {
   "cell_type": "markdown",
   "metadata": {},
   "source": [
    "**Question 2.2 :** Corriger la fonction *update_genetics* ci-dessous qui prend en entrée un dictionaire $p$ (représentant la proportion d'individus ayant les cheveux bruns dans chacune des trois îles à un instant donné), une fraction de migration $m$ et retourne la proportion d'individus ayant les cheveux bruns dans chacune des trois îles à l'instant suivant sous la forme d'un dictionaire."
   ]
  },
  {
   "cell_type": "code",
   "execution_count": 12,
   "metadata": {},
   "outputs": [],
   "source": [
    "def update_genetics(p,m):\n",
    "    '''\n",
    "    dict[str:float]*float->dict[str:float]\n",
    "    Update the population's genetics \n",
    "    '''\n",
    "    p_new={}\n",
    "    p_new['A'] = p['A']*(1-2*m)+p['B']*m+p['C']*m\n",
    "    p_new['B'] = p['B']*(1-2*m)+p['A']*m+p['C']*m\n",
    "    p_new['C'] = p['C']*(1-2*m)+p['B']*m+p['A']*m\n",
    "    return p_new"
   ]
  },
  {
   "cell_type": "markdown",
   "metadata": {},
   "source": [
    "**Question 2.3 :** Compléter la signature et la description de la fonction *genetics_n_migrations* suivante."
   ]
  },
  {
   "cell_type": "code",
   "execution_count": 13,
   "metadata": {},
   "outputs": [],
   "source": [
    "def genetics_n_migrations(p,m,n):\n",
    "    '''\n",
    "    dict[str:float]*float*int -> list[list[float]]\n",
    "    \n",
    "    '''\n",
    "    keys=[\"A\",\"B\",\"C\"] \n",
    "    M = []\n",
    "    M.append([p[k] for k in keys])\n",
    "    for i in range(1,n):\n",
    "        p = update_genetics(p,m)\n",
    "        M.append([p[k] for k in keys])\n",
    "    return M"
   ]
  },
  {
   "cell_type": "markdown",
   "metadata": {},
   "source": [
    "A présent visualisons la fréquence de l'allèle au cours du temps."
   ]
  },
  {
   "cell_type": "code",
   "execution_count": 14,
   "metadata": {
    "scrolled": true
   },
   "outputs": [
    {
     "data": {
      "image/png": "[encoded data removed]",
      "text/plain": [
       "<Figure size 432x288 with 1 Axes>"
      ]
     },
     "metadata": {},
     "output_type": "display_data"
    }
   ],
   "source": [
    "p = {'A' : 0.2,\n",
    "    'B' : 0.5,\n",
    "    'C' : 0.3}\n",
    "\n",
    "m = 0.01 # Ratio of the population that migrate every generation\n",
    "\n",
    "n = 300\n",
    "\n",
    "M = genetics_n_migrations(p,m,n)\n",
    "\n",
    "def plot_genetics(M,p):\n",
    "    plt.figure()\n",
    "    plt.plot(M)\n",
    "    plt.legend([\"Island \"+i for i in p])\n",
    "    plt.xlabel(\"Génération\")\n",
    "    plt.ylabel(\"Fréquence allèle dans population\")\n",
    "    plt.show()\n",
    "    return\n",
    "\n",
    "plot_genetics(M,p)"
   ]
  },
  {
   "cell_type": "markdown",
   "metadata": {},
   "source": [
    "**Questions 2.4:** Modifier $p_A,p_B,p_C$ ainsi que le taux de migration $m$ et décrire les différents phénomènes observés."
   ]
  },
  {
   "cell_type": "markdown",
   "metadata": {},
   "source": [
    "Les fréquences d'allèle dans la population tendent vers la moyenne de pA,pB et pC. Le changement de ratio influe sur la vitesse"
   ]
  },
  {
   "cell_type": "markdown",
   "metadata": {},
   "source": [
    "On peut complexifier la modélisation en faisant varier le nombre d'îles ou bien les taux de migrations entre îles : $m$ $\\rightarrow$ $m_{A,B}, m_{B,C}, m_{C,A}$."
   ]
  },
  {
   "cell_type": "markdown",
   "metadata": {},
   "source": [
    "### Variante  1 : Nombre d'îles variable :"
   ]
  },
  {
   "cell_type": "markdown",
   "metadata": {},
   "source": [
    "**Question 2.5 (facultatif) :** Adapter les fonctions précédentes pour un nombre d'îles arbitraire. "
   ]
  },
  {
   "cell_type": "code",
   "execution_count": 15,
   "metadata": {},
   "outputs": [
    {
     "data": {
      "image/png": "[encoded data removed]",
      "text/plain": [
       "<Figure size 432x288 with 1 Axes>"
      ]
     },
     "metadata": {},
     "output_type": "display_data"
    }
   ],
   "source": [
    "m = 0.01 # coefficient de migration\n",
    "\n",
    "p = {'A' : 0.5,\n",
    "    'B' : 0.2,\n",
    "    'C' : 0.8,\n",
    "    'D' : 0.4} # Initial probability to have brown hair\n",
    "\n",
    "def update_genetics(p,m):\n",
    "    '''\n",
    "    dict[str:float]*float->dict[str:float]\n",
    "    Update the population's genetics \n",
    "    '''\n",
    "    p_new={}\n",
    "    p_new['A'] = p['A']*(1-3*m)+p['B']*m+p['C']*m+p['D']*m\n",
    "    p_new['B'] = p['B']*(1-3*m)+p['C']*m+p['D']*m+p['A']*m\n",
    "    p_new['C'] = p['C']*(1-3*m)+p['D']*m+p['A']*m+p['B']*m\n",
    "    p_new['D'] = p['D']*(1-3*m)+p['B']*m+p['A']*m+p['C']*m\n",
    "    return p_new\n",
    "\n",
    "def genetics_n_migrations(p,m,n):\n",
    "    '''\n",
    "    dict[str:float]*float*int -> list[list[float]]\n",
    "    \n",
    "    '''\n",
    "    keys=[\"A\",\"B\",\"C\",\"D\"] \n",
    "    M = []\n",
    "    M.append([p[k] for k in keys])\n",
    "    for i in range(1,n):\n",
    "        p = update_genetics(p,m)\n",
    "        M.append([p[k] for k in keys])\n",
    "    return M\n",
    "\n",
    "n = 300\n",
    "\n",
    "M = genetics_n_migrations(p,m,n)\n",
    "\n",
    "def plot_genetics(M,p):\n",
    "    plt.figure()\n",
    "    plt.plot(M)\n",
    "    plt.legend([\"Island \"+i for i in p])\n",
    "    plt.xlabel(\"Génération\")\n",
    "    plt.ylabel(\"Fréquence allèle dans population\")\n",
    "    plt.show()\n",
    "    return\n",
    "\n",
    "plot_genetics(M,p)"
   ]
  },
  {
   "cell_type": "markdown",
   "metadata": {},
   "source": [
    "### Variante 2 : Taux de migrations différents entre îles  :"
   ]
  },
  {
   "cell_type": "markdown",
   "metadata": {},
   "source": [
    "Considérons tout d'abord : $m_{A,B} = m_{B,A}$, $m_{A,C} = m_{C,A}$ et $m_{C,B} = m_{B,C}$."
   ]
  },
  {
   "cell_type": "markdown",
   "metadata": {},
   "source": [
    "**Question 2.6 :** Retrouver la formule suivante et adapter les fonctions précédentes. $p_{A,n+1} = p_{A,n}(1-m_{A,B}-m_{C,A})+p_{B,n}m_{B,A}+p_{C,n}m_{C,A}$"
   ]
  },
  {
   "cell_type": "markdown",
   "metadata": {},
   "source": [
    "pA,n+1 = pA,n*(1−2m) + pB,n*m + pC,n*m \n",
    "la proportion de presence du gene de l'ile A a la  generation n+1 sera egale a la somme de :\n",
    "-la proportion de presence du gene a la generation n de l'ile A multipliée par la proportion de la population qui est restee sur A : 1-m(A,B) - m(A,C)\n",
    "-la proportion de presence du gene a la generation n de l'ile B multipliée par la proportion de la population venue de l'ile B : m(B,A)\n",
    "-la proportion de presence du gene a la generation n de l'ile C multipliée par la proportion de la population venue de l'ile C : m(C,A)"
   ]
  },
  {
   "cell_type": "code",
   "execution_count": 31,
   "metadata": {},
   "outputs": [],
   "source": [
    "#Nous utiliserons les paramètres suivants.\n",
    "\n",
    "p = {'A' : 0.5,\n",
    "    'B' : 0.4,\n",
    "    'C' : 0.8} # Initial probability to have red hair \n",
    "\n",
    "m = {('A','B') : 0.2, # Migration ratio from island 'A' to island 'B'\n",
    "     ('B','A') : 0.2,\n",
    "     ('A','C') : 0.05,\n",
    "     ('C','A') : 0.05,\n",
    "     ('B','C') : 0.01,\n",
    "     ('C','B') : 0.01}"
   ]
  },
  {
   "cell_type": "code",
   "execution_count": 32,
   "metadata": {},
   "outputs": [
    {
     "data": {
      "image/png": "[encoded data removed]",
      "text/plain": [
       "<Figure size 432x288 with 1 Axes>"
      ]
     },
     "metadata": {},
     "output_type": "display_data"
    }
   ],
   "source": [
    "def generation_variante2(p,m) :\n",
    "    '''\n",
    "    dict[str:float]*float->dict[str:float]\n",
    "    Update the population's genetics \n",
    "    '''\n",
    "    p_new={}\n",
    "    p_new['A'] = p['A']*(1-m[('A','B')]-m[('A','C')])+p['B']*m[('B','A')]+p['C']*m[('C','A')]\n",
    "    p_new['B'] = p['B']*(1-m[('B','A')]-m[('B','C')])+p['A']*m[('A','B')]+p['C']*m[('C','B')]\n",
    "    p_new['C'] = p['C']*(1-m[('C','B')]-m[('C','A')])+p['B']*m[('B','C')]+p['A']*m[('A','C')]\n",
    "    return p_new\n",
    "\n",
    "def genetics_n_migrations2(p,m,n):\n",
    "    '''\n",
    "    dict[str:float]*float*int -> list[List[float]]\n",
    "    \n",
    "    '''\n",
    "    keys=[\"A\",\"B\",\"C\"] \n",
    "    M = []\n",
    "    M.append([p[k] for k in keys])\n",
    "    for i in range(1,n):\n",
    "        p = generation_variante2(p,m)\n",
    "        M.append([p[k] for k in keys])\n",
    "    return M\n",
    "\n",
    "n = 300\n",
    "\n",
    "M = genetics_n_migrations2(p,m,n)\n",
    "\n",
    "def plot_genetics(M,p):\n",
    "    plt.figure()\n",
    "    plt.plot(M)\n",
    "    plt.legend([\"Island \"+i for i in p])\n",
    "    plt.xlabel(\"Génération\")\n",
    "    plt.ylabel(\"Fréquence allèle dans population\")\n",
    "    plt.show()\n",
    "    return\n",
    "\n",
    "plot_genetics(M,p)"
   ]
  },
  {
   "cell_type": "markdown",
   "metadata": {},
   "source": [
    "**Question 2.7**: Que se passe-t-il si le taux de migrations d'un île à une autre n'est plus symétrique : $m_{A,B} \\neq m_{B,A}$ ? Est-ce que notre notre calcul est toujours correct ? (Indice : cf hypothèse 1.)"
   ]
  },
  {
   "cell_type": "markdown",
   "metadata": {},
   "source": [
    "si les taux de migrations ne sont plus symetriques, la population des îles n'est plus equirepartie au fil des generations donc le calcul n'est plus correcte."
   ]
  },
  {
   "cell_type": "markdown",
   "metadata": {},
   "source": [
    "# 3. Galton-Watson et Migrations"
   ]
  },
  {
   "cell_type": "markdown",
   "metadata": {},
   "source": [
    "Dans cette partie nous nous intéressons aux nombres d'individus sur chaque île sans tenir compte de leurs patrimoines génétiques. Nous supposons que la population de chaque île suit un modele de Gatson-Watson. Prenons en compte les migrations et adaptons notre modèle en conséquent.\n",
    "\n",
    "Notons $Z_{A,n},Z_{B,n},Z_{C,n}$ les populations des îles $A$, $B$ et $C$ à la génération $n$. \n",
    "\n",
    "La formule suivante peut sembler compliquée, mais s'interprète assez facilement :\n",
    "- $Z_{A,n+1} = \\sum_{i=1}^{Z_{A,n}'}X$ où $Z_{A,n}' = Z_{A,n}(1-m_{A,B}-m_{A,C})+Z_{B,n}m_{B,A}+Z_{C,n}m_{C,A}$.\n",
    "\n",
    "$Z_{A,n}'$ est la population de l'île $A$ à la generation $n$ **après** avoir pris en compte les migrations.\n",
    "\n",
    "**Question 3.1 :** Retrouver les formules pour $Z_{B,n+1}$ ainsi que pour $Z_{C,n+1}$."
   ]
  },
  {
   "cell_type": "markdown",
   "metadata": {},
   "source": [
    "$Z_{B,n+1} = \\sum_{i=1}^{Z_{B,n}'}X$ où $Z_{B,n}' = Z_{B,n}(1-m_{B,A}-m_{B,C})+Z_{A,n}m_{A,B}+Z_{C,n}m_{C,B}$.\n",
    "\n",
    "$Z_{C,n+1} = \\sum_{i=1}^{Z_{C,n}'}X$ où $Z_{C,n}' = Z_{C,n}(1-m_{C,A}-m_{C,B})+Z_{A,n}m_{A,C}+Z_{B,n}m_{B,C}$."
   ]
  },
  {
   "cell_type": "markdown",
   "metadata": {},
   "source": [
    "Modélisons l'évolution de cet archipel au fil des générations."
   ]
  },
  {
   "cell_type": "code",
   "execution_count": 73,
   "metadata": {},
   "outputs": [],
   "source": [
    "#Nous utiliserons les paramètres suivants.\n",
    "\n",
    "p = {0 : 0.4,\n",
    "     1 : 0.3,\n",
    "     2 : 0.2,\n",
    "     3 : 0.1} # Number of descendants\n",
    "np.testing.assert_almost_equal(sum(p.values()),1)\n",
    "\n",
    "P = {'A' : p,\n",
    "     'B' : p,\n",
    "     'C' : p} # Galton Watson parameter on each island\n",
    "\n",
    "Z0 = {'A' : 40,\n",
    "     'B' : 100,\n",
    "     'C' : 4000} #Initial Population\n",
    "\n",
    "m = {('A','B') : 0.02, # Migration ratio from island 'A' to island 'B'\n",
    "     ('B','A') : 0.02,\n",
    "     ('A','C') : 0.05,\n",
    "     ('C','A') : 0.05,\n",
    "     ('B','C') : 0.01,\n",
    "     ('C','B') : 0.01}\n",
    "\n",
    "keys=[\"A\",\"B\",\"C\"]\n",
    "\n",
    "n = 100 #Number of generations"
   ]
  },
  {
   "cell_type": "markdown",
   "metadata": {},
   "source": [
    "**Question 3.2 :** Compléter la fonction ci-dessous."
   ]
  },
  {
   "cell_type": "code",
   "execution_count": 74,
   "metadata": {},
   "outputs": [],
   "source": [
    "def update_populations_with_migrations(Z,P,m):\n",
    "    '''\n",
    "    dict[str:int]*dict[str:dict[int:float]]*dict[tuple[str,str]:float]->dict[str:int]\n",
    "    renvoie un truc\n",
    "    '''\n",
    "    Z_new = {}\n",
    "    Z_new['A'] = 0\n",
    "    for k in range( int(Z['A']*(1-m[('A','B')]-m[('A','C')])+Z['B']*m[('B','A')]+Z['C']*m[('C','A')] )) :\n",
    "        Z_new['A'] += number_of_descendants(P['A'])\n",
    "    Z_new['B'] = 0\n",
    "    for k in range( int(Z['B']*(1-m[('B','A')]-m[('B','C')])+Z['A']*m[('A','B')]+Z['C']*m[('C','B')] )) :\n",
    "        Z_new['B'] += number_of_descendants(P['B'])\n",
    "    Z_new['C'] = 0\n",
    "    for k in range( int(Z['C']*(1-m[('C','B')]-m[('C','A')])+Z['B']*m[('B','C')]+Z['A']*m[('A','C')] )) :\n",
    "        Z_new['C'] += number_of_descendants(P['B'])\n",
    "    return Z_new\n"
   ]
  },
  {
   "cell_type": "markdown",
   "metadata": {},
   "source": [
    "**Question 3.3 :** Visualiser le nombre d'individu sur chaque île."
   ]
  },
  {
   "cell_type": "code",
   "execution_count": 77,
   "metadata": {},
   "outputs": [
    {
     "name": "stdout",
     "output_type": "stream",
     "text": [
      "[[40, 100, 4000], [226, 108, 3849], [380, 111, 3706], [497, 137, 3623], [543, 169, 3536], [599, 221, 3338], [690, 287, 3193], [735, 366, 3090], [784, 429, 3016], [811, 435, 2906], [819, 464, 2824], [811, 565, 2759], [838, 641, 2708], [816, 661, 2628], [782, 710, 2580], [755, 790, 2587], [793, 852, 2463], [787, 876, 2400], [754, 873, 2371], [808, 878, 2386], [832, 937, 2315], [813, 902, 2280], [835, 978, 2308], [783, 1038, 2224], [804, 1108, 2162], [833, 1147, 2083], [792, 1201, 2053], [779, 1259, 1981], [768, 1332, 2020], [838, 1378, 1993], [848, 1404, 1972], [863, 1462, 1991], [857, 1436, 1935], [840, 1459, 1959], [830, 1482, 1864], [798, 1581, 1942], [843, 1588, 1909], [892, 1602, 1932], [848, 1676, 1906], [857, 1648, 1922], [895, 1632, 1898], [953, 1638, 1909], [937, 1640, 1881], [924, 1721, 1818], [904, 1721, 1850], [913, 1741, 1814], [895, 1738, 1814], [880, 1706, 1787], [902, 1736, 1864], [864, 1711, 1835], [817, 1736, 1843], [854, 1748, 1794], [848, 1811, 1763], [904, 1873, 1782], [890, 1831, 1748], [826, 1791, 1741], [793, 1784, 1735], [871, 1738, 1735], [895, 1794, 1745], [939, 1879, 1740], [929, 1907, 1729], [932, 1966, 1711], [929, 1956, 1687], [881, 1899, 1723], [854, 1828, 1714], [862, 1836, 1771], [858, 1828, 1740], [852, 1881, 1776], [858, 1973, 1788], [890, 2031, 1753], [943, 2037, 1801], [933, 1964, 1793], [878, 1990, 1794], [878, 1884, 1803], [933, 1829, 1804], [940, 1738, 1786], [903, 1742, 1797], [856, 1744, 1866], [881, 1663, 1878], [833, 1591, 1924], [866, 1580, 1898], [927, 1559, 1824], [908, 1482, 1850], [905, 1493, 1832], [886, 1525, 1788], [862, 1516, 1785], [844, 1526, 1752], [847, 1472, 1753], [822, 1426, 1768], [859, 1396, 1679], [879, 1400, 1625], [867, 1388, 1649], [899, 1365, 1634], [907, 1306, 1656], [869, 1329, 1669], [864, 1320, 1662], [863, 1371, 1671], [863, 1450, 1597], [864, 1470, 1583], [863, 1466, 1653], [818, 1454, 1713], [825, 1471, 1655], [819, 1490, 1584], [850, 1529, 1571], [844, 1599, 1602], [823, 1585, 1604], [861, 1503, 1510], [886, 1550, 1490], [841, 1569, 1472], [838, 1567, 1537], [849, 1566, 1593], [832, 1560, 1629], [785, 1542, 1665], [778, 1533, 1625], [792, 1581, 1649], [804, 1533, 1662], [793, 1507, 1661], [759, 1592, 1686], [818, 1556, 1633], [851, 1646, 1631], [793, 1635, 1592], [787, 1637, 1596], [801, 1637, 1677], [814, 1546, 1664], [783, 1562, 1692], [872, 1509, 1752], [875, 1543, 1776], [882, 1591, 1741], [857, 1618, 1747], [846, 1643, 1713], [881, 1567, 1684], [916, 1552, 1716], [905, 1583, 1701], [945, 1578, 1630], [906, 1626, 1625], [861, 1600, 1584], [901, 1522, 1587], [870, 1548, 1637], [863, 1586, 1642], [849, 1656, 1614], [815, 1671, 1620], [787, 1702, 1606], [764, 1685, 1624], [831, 1696, 1636], [790, 1690, 1653], [750, 1566, 1639], [759, 1533, 1648], [795, 1537, 1620], [783, 1564, 1592], [795, 1544, 1613], [812, 1541, 1629], [840, 1600, 1673], [869, 1599, 1677], [860, 1618, 1666], [805, 1743, 1697], [840, 1756, 1731], [854, 1702, 1705], [862, 1663, 1706], [854, 1744, 1658], [873, 1743, 1717], [864, 1833, 1729], [880, 1805, 1700], [883, 1827, 1603], [875, 1797, 1551], [826, 1816, 1624], [833, 1820, 1686], [832, 1795, 1655], [851, 1757, 1667], [889, 1732, 1716], [911, 1732, 1669], [944, 1684, 1675], [924, 1702, 1698], [889, 1625, 1704], [883, 1588, 1730], [897, 1577, 1707], [870, 1631, 1770], [859, 1672, 1736], [811, 1613, 1747], [832, 1614, 1758], [824, 1606, 1743], [802, 1568, 1734], [753, 1547, 1740], [790, 1532, 1626], [759, 1581, 1602], [785, 1612, 1613], [784, 1602, 1587], [765, 1688, 1544], [808, 1638, 1487], [749, 1596, 1462], [784, 1604, 1488], [777, 1577, 1505], [763, 1532, 1538], [757, 1531, 1478], [784, 1471, 1506], [740, 1461, 1483], [795, 1501, 1507], [804, 1577, 1525], [796, 1576, 1569], [765, 1640, 1502], [751, 1671, 1538], [742, 1717, 1619], [725, 1687, 1579], [738, 1696, 1618], [718, 1654, 1618], [754, 1699, 1542], [725, 1735, 1479], [742, 1718, 1484], [758, 1765, 1504], [806, 1685, 1497], [778, 1661, 1479], [793, 1661, 1468], [774, 1658, 1460], [798, 1661, 1448], [781, 1632, 1506], [764, 1629, 1539], [754, 1685, 1547], [741, 1715, 1540], [756, 1668, 1549], [734, 1605, 1516], [702, 1577, 1497], [710, 1613, 1443], [743, 1642, 1435], [775, 1600, 1470], [753, 1469, 1492], [765, 1475, 1499], [730, 1442, 1556], [729, 1460, 1518], [747, 1468, 1494], [764, 1513, 1507], [735, 1521, 1537], [755, 1528, 1547], [701, 1523, 1557], [711, 1548, 1530], [753, 1627, 1584], [794, 1617, 1601], [786, 1606, 1595], [816, 1644, 1585], [779, 1680, 1566], [777, 1705, 1538], [773, 1654, 1585], [770, 1670, 1608], [801, 1644, 1659], [814, 1660, 1622], [756, 1603, 1664], [818, 1615, 1676], [810, 1645, 1591], [805, 1681, 1578], [845, 1756, 1556], [815, 1789, 1633], [821, 1801, 1602], [831, 1787, 1561], [871, 1747, 1553], [910, 1801, 1515], [904, 1812, 1560], [823, 1828, 1602], [875, 1886, 1557], [878, 1741, 1585], [876, 1703, 1555], [844, 1694, 1513], [841, 1601, 1529], [857, 1558, 1566], [869, 1557, 1555], [880, 1564, 1609], [857, 1500, 1631], [789, 1551, 1575], [724, 1638, 1575], [734, 1633, 1562], [765, 1581, 1534], [743, 1558, 1521], [780, 1555, 1572], [767, 1537, 1560], [765, 1500, 1558], [788, 1520, 1508], [782, 1590, 1509], [726, 1534, 1517], [747, 1567, 1457], [719, 1586, 1560], [757, 1622, 1542], [735, 1606, 1530], [812, 1592, 1556], [849, 1599, 1583], [863, 1616, 1618], [826, 1637, 1588], [799, 1678, 1554], [816, 1689, 1597], [777, 1696, 1645], [755, 1735, 1610], [758, 1750, 1599], [773, 1732, 1689], [781, 1735, 1649], [820, 1641, 1605], [794, 1550, 1607], [776, 1550, 1615], [767, 1531, 1633], [815, 1480, 1662], [833, 1456, 1603], [829, 1446, 1635], [819, 1438, 1620], [801, 1449, 1642], [801, 1495, 1640]]\n"
     ]
    },
    {
     "data": {
      "image/png": "[encoded data removed]",
      "text/plain": [
       "<Figure size 432x288 with 1 Axes>"
      ]
     },
     "metadata": {},
     "output_type": "display_data"
    }
   ],
   "source": [
    "def POPULATION(Z,P,m,n) :\n",
    "    \"\"\"dict[str:int]->list[ list[int] ]\n",
    "    renvoie la liste des listes des populations sur chaques iles à chaques generations\n",
    "    \"\"\"\n",
    "    popopo = []\n",
    "    popopo.append([Z[k] for k in keys])\n",
    "    for i in range(1,n):\n",
    "        Z = update_populations_with_migrations(Z,P,m)\n",
    "        popopo.append([Z[k] for k in keys])\n",
    "    return popopo\n",
    "\n",
    "Pop = POPULATION(Z0,P,m,n)\n",
    "\n",
    "print(Pop)\n",
    "\n",
    "def plot_population(Pop):\n",
    "    plt.figure()\n",
    "    plt.plot(Pop)\n",
    "    plt.legend([\"Island \"+i for i in keys])\n",
    "    plt.xlabel(\"Génération\")\n",
    "    plt.ylabel(\"Population\")\n",
    "    plt.show()\n",
    "    return\n",
    "\n",
    "plot_population(Pop)"
   ]
  },
  {
   "cell_type": "markdown",
   "metadata": {},
   "source": [
    "**Questions 3.4 :**\n",
    "- Faire varier les populations initiales $Z_0$.\n",
    "- Modifier les paramètres de migrations pour éteindre la population d'une seule île.\n",
    "- Faire survivre la population d'une seule île."
   ]
  },
  {
   "cell_type": "markdown",
   "metadata": {},
   "source": [
    "### Visualisation Dynamique (Facultatif)"
   ]
  },
  {
   "cell_type": "markdown",
   "metadata": {},
   "source": [
    "Avec cette visualisation il est très simple d'observer les phénomènes de cas (sur/sous)-critiques, en faisant varier ne serait-ce que très légérement l'espérance."
   ]
  },
  {
   "cell_type": "code",
   "execution_count": 29,
   "metadata": {},
   "outputs": [
    {
     "ename": "ImportError",
     "evalue": "No module named 'pandas'",
     "output_type": "error",
     "traceback": [
      "\u001b[0;31m---------------------------------------------------------------------------\u001b[0m",
      "\u001b[0;31mImportError\u001b[0m                               Traceback (most recent call last)",
      "\u001b[0;32m<ipython-input-29-0d53e091080c>\u001b[0m in \u001b[0;36m<module>\u001b[0;34m()\u001b[0m\n\u001b[0;32m----> 1\u001b[0;31m \u001b[0;32mimport\u001b[0m \u001b[0mpandas\u001b[0m \u001b[0;32mas\u001b[0m \u001b[0mpd\u001b[0m\u001b[0;34m\u001b[0m\u001b[0m\n\u001b[0m\u001b[1;32m      2\u001b[0m \u001b[0;32mdef\u001b[0m \u001b[0manimated_populations\u001b[0m\u001b[0;34m(\u001b[0m\u001b[0mZ\u001b[0m\u001b[0;34m,\u001b[0m\u001b[0mP\u001b[0m\u001b[0;34m,\u001b[0m\u001b[0mM\u001b[0m\u001b[0;34m,\u001b[0m\u001b[0mn\u001b[0m\u001b[0;34m)\u001b[0m\u001b[0;34m:\u001b[0m\u001b[0;34m\u001b[0m\u001b[0m\n\u001b[1;32m      3\u001b[0m     \u001b[0mn_island\u001b[0m \u001b[0;34m=\u001b[0m \u001b[0mlen\u001b[0m\u001b[0;34m(\u001b[0m\u001b[0mZ\u001b[0m\u001b[0;34m)\u001b[0m\u001b[0;34m\u001b[0m\u001b[0m\n\u001b[1;32m      4\u001b[0m     \u001b[0mpop_dict\u001b[0m \u001b[0;34m=\u001b[0m \u001b[0;34m{\u001b[0m\u001b[0;36m0\u001b[0m\u001b[0;34m:\u001b[0m\u001b[0mZ\u001b[0m\u001b[0;34m}\u001b[0m\u001b[0;34m\u001b[0m\u001b[0m\n\u001b[1;32m      5\u001b[0m     \u001b[0;32mfor\u001b[0m \u001b[0mi\u001b[0m \u001b[0;32min\u001b[0m \u001b[0mrange\u001b[0m\u001b[0;34m(\u001b[0m\u001b[0mn\u001b[0m\u001b[0;34m)\u001b[0m\u001b[0;34m:\u001b[0m\u001b[0;34m\u001b[0m\u001b[0m\n",
      "\u001b[0;31mImportError\u001b[0m: No module named 'pandas'"
     ]
    }
   ],
   "source": [
    "import pandas as pd\n",
    "def animated_populations(Z,P,M,n):\n",
    "    n_island = len(Z)\n",
    "    pop_dict = {0:Z}\n",
    "    for i in range(n):\n",
    "        Z = update_populations_with_migrations(Z,P,M)\n",
    "        pop_dict[i]=Z.copy()\n",
    "    pop_df = pd.DataFrame.from_dict(pop_dict,orient='index')\n",
    "    fig = plt.figure()\n",
    "    cmap = plt.get_cmap('tab10')\n",
    "    barplot = plt.bar(range(n_island),pop_df.max(),color=[cmap(i) for i in range(n_island)])\n",
    "    def animate(i):\n",
    "        populations = pop_df.iloc[i,:]\n",
    "        for j,b in enumerate(barplot):\n",
    "            b.set_height(populations[j])\n",
    "    plt.tick_params(top=False,right=False)\n",
    "    plt.xticks(range(n_island),[\"Island \"+str(i) for i in Z.keys()])\n",
    "    plt.ylabel(\"Population\")\n",
    "    for spine in plt.gca().spines.values():\n",
    "        spine.set_visible(False)\n",
    "    anim = animation.FuncAnimation(fig,animate,blit=False,\n",
    "                                  frames = n,interval=300,repeat=False)\n",
    "    #anim.save('mymovie.mp4',writer=animation.FFMpegWriter(fps=10))\n",
    "    return anim"
   ]
  },
  {
   "cell_type": "code",
   "execution_count": null,
   "metadata": {},
   "outputs": [],
   "source": [
    "p = {0 : 0.4,\n",
    "     1 : 0.3,\n",
    "     2 : 0.2,\n",
    "     3 : 0.1}\n",
    "np.testing.assert_almost_equal(sum(p.values()),1)\n",
    "P = {'A' : p,\n",
    "     'B' : p,\n",
    "     'C' : p}\n",
    "Z0 = {'A' : 400,\n",
    "     'B' : 2000,\n",
    "     'C' : 400}\n",
    "M = {('A','B') : 0.05, # Migration ratio from island 'A' to island 'B'\n",
    "     ('B','A') : 0.05,\n",
    "     ('A','C') : 0.05,\n",
    "     ('C','A') : 0.05,\n",
    "     ('B','C') : 0.01,\n",
    "     ('C','B') : 0.01}\n",
    "n = 400\n",
    "animated_populations(Z0,P,M,n)"
   ]
  },
  {
   "cell_type": "markdown",
   "metadata": {},
   "source": [
    "# 4. Galton-Island"
   ]
  },
  {
   "cell_type": "markdown",
   "metadata": {},
   "source": [
    "Retournons à notre Island Model, maintenant que nous avons pris en compte l'évolution de la population sur chaque île, celle-ci n'étant plus constante, nous allons pouvoir réaliser un modèle un peu plus réaliste, nous oublions l'**hypothèse 1**."
   ]
  },
  {
   "cell_type": "markdown",
   "metadata": {},
   "source": [
    "**Question 4.1 :** Retrouver la formule générale suivante :\n",
    "\n",
    "$p_{A,n+1} = \\frac{\\displaystyle p_{A,n}Z_{A,n}(1-m_{A,B}-m_{A,C})+p_{B,n}Z_{B,n}m_{B,A}+p_{C,n}Z_{C,n}m_{C,n}}{\\displaystyle Z_{A,n}(1-m_{A,B}-m_{A,C})+Z_{B,n}m_{B,A}+Z_{C,n}m_{C,n}}$\n",
    "\n",
    "\n",
    "Adapter les fonctions précédentes dans les box ci dessous."
   ]
  },
  {
   "cell_type": "code",
   "execution_count": 65,
   "metadata": {},
   "outputs": [],
   "source": [
    "def update_genetics_with_migrations(Z,p_genetics,m):\n",
    "\n",
    "    '''\n",
    "    dict[str:int]*dict[str:dict[int:float]]*dict[tuple[str,str]:float]->dict[str:int]\n",
    "    Update the genetics of the population 'C', with parameter in 'p_galton' and 'p_genetics',\n",
    "    according to migrations 'm' \n",
    "    '''\n",
    "    #print(Z)\n",
    "    #print(p_genetics)\n",
    "    P_new = {}\n",
    "    if (Z[0]*(1-m[('A','B')]-m[('A','C')]) + Z[1]*m[('B','A')] + Z[2]*m[('C','A')]) == 0 :\n",
    "        P_new['A'] = 0\n",
    "    else :\n",
    "        P_new['A']= ( p_genetics['A']*Z[0]*(1-m[('A','B')]-m[('A','C')]) + p_genetics['B']*Z[1]*m[('B','A')] + p_genetics['C']*Z[2]*m[('C','A')] ) / (Z[0]*(1-m[('A','B')]-m[('A','C')]) + Z[1]*m[('B','A')] + Z[2]*m[('C','A')]) \n",
    "    if (Z[1]*(1-m[('B','A')]-m[('B','C')]) + Z[0]*m[('A','B')] + Z[2]*m[('C','B')]) == 0 :\n",
    "        P_new['B'] = 0\n",
    "    else :\n",
    "        P_new['B']= ( p_genetics['B']*Z[1]*(1-m[('B','A')]-m[('B','C')]) + p_genetics['A']*Z[0]*m[('A','B')] + p_genetics['C']*Z[2]*m[('C','B')] ) / (Z[1]*(1-m[('B','A')]-m[('B','C')]) + Z[0]*m[('A','B')] + Z[2]*m[('C','B')])     \n",
    "    if (Z[2]*(1-m[('C','B')]-m[('C','A')]) + Z[1]*m[('B','C')] + Z[0]*m[('A','C')]) == 0 :\n",
    "        P_new['C']=0\n",
    "    else :\n",
    "        P_new['C']= ( p_genetics['C']*Z[2]*(1-m[('C','B')]-m[('C','A')]) + p_genetics['B']*Z[1]*m[('B','C')] + p_genetics['A']*Z[1]*m[('A','C')] ) / (Z[2]*(1-m[('C','B')]-m[('C','A')]) + Z[1]*m[('B','C')] + Z[0]*m[('A','C')]) \n",
    "    #print(P_new)\n",
    "    #print(Z)\n",
    "    return P_new\n",
    "    \n",
    "    \n"
   ]
  },
  {
   "cell_type": "code",
   "execution_count": 66,
   "metadata": {},
   "outputs": [],
   "source": [
    "def galton_island(Z,p_galton,p_genetics,m,n):\n",
    "    '''\n",
    "    Combinaison des deux modèles \n",
    "    '''\n",
    "    Z0 = POPULATION(Z,p_galton,m,n) #generation de la liste des populations de chaques iles a chaques generations\n",
    "    keys=[\"A\",\"B\",\"C\"] \n",
    "    freq = []\n",
    "    freq.append([p_genetics[k] for k in keys])\n",
    "    for i in range(1,n):\n",
    "        Zi = Z0[i] #prendre la generation i\n",
    "        p_genetics = update_genetics_with_migrations(Zi,p_genetics,m) #creer le dictionnaire des frequ par ile a la generation i\n",
    "        freq.append([p_genetics[k] for k in keys]) #faire la liste avec les frequences\n",
    "    return freq,Z0 #LISTE DES FREQUENCE PUIS LISTE DES POP UTILISE POUR CALCULER LES FREQ A CHAQUES GEN\n",
    "#print(galton_island(Z,p_galton,p_genetics,m,n))"
   ]
  },
  {
   "cell_type": "code",
   "execution_count": 85,
   "metadata": {
    "scrolled": false
   },
   "outputs": [
    {
     "name": "stdout",
     "output_type": "stream",
     "text": [
      "1.0\n",
      "1.0\n",
      "0.9000000000000001\n"
     ]
    },
    {
     "data": {
      "image/png": "[encoded data removed]",
      "text/plain": [
       "<Figure size 432x288 with 1 Axes>"
      ]
     },
     "metadata": {},
     "output_type": "display_data"
    },
    {
     "data": {
      "image/png": "[encoded data removed]",
      "text/plain": [
       "<Figure size 432x288 with 1 Axes>"
      ]
     },
     "metadata": {},
     "output_type": "display_data"
    }
   ],
   "source": [
    "Z = {'A' : 1500,\n",
    "     'B' : 500,\n",
    "     'C' : 500} # Initial population\n",
    "\n",
    "keys=[\"A\",\"B\",\"C\"]\n",
    "\n",
    "pA = {0 : 0.4,\n",
    "     1 : 0.3,\n",
    "     2 : 0.2,\n",
    "     3 : 0.1}\n",
    "pB = {0 : 0.4,\n",
    "     1 : 0.3,\n",
    "     2 : 0.2,\n",
    "     3 : 0.1}\n",
    "pC = {0 : 0.5,\n",
    "     1 : 0.2,\n",
    "     2 : 0.2,\n",
    "     3 : 0.1}\n",
    "print(esperance(pA))\n",
    "print(esperance(pB))\n",
    "print(esperance(pC))\n",
    "\n",
    "p_galton = {'A' : pA,\n",
    "            'B' : pB,\n",
    "            'C' : pC}\n",
    "\n",
    "p_genetics = {'A' : 0.25,\n",
    "              'B' : 0.10,\n",
    "              'C' : 0.05} \n",
    "\n",
    "m = {('A','B') : 0.02, # Migration ratio from island 'A' to island 'B'\n",
    "     ('B','A') : 0.02,\n",
    "     ('A','C') : 0.1,\n",
    "     ('C','A') : 0.1,\n",
    "     ('B','C') : 0.05,\n",
    "     ('C','B') : 0.05}\n",
    "n = 300\n",
    "\n",
    "freq,Pop = galton_island(Z,p_galton,p_genetics,m,n)\n",
    "\n",
    "#print(freq)\n",
    "#print(Pop)\n",
    "\n",
    "def plot_frequence(Pop):\n",
    "    plt.figure()\n",
    "    plt.plot(Pop)\n",
    "    plt.legend([\"Island \"+i for i in keys])\n",
    "    plt.xlabel(\"Génération\")\n",
    "    plt.ylabel(\"Fréquence allèle dans population\")\n",
    "    plt.show()\n",
    "    return\n",
    "\n",
    "plot_frequence(freq)\n",
    "plot_population(Pop)"
   ]
  },
  {
   "cell_type": "markdown",
   "metadata": {},
   "source": [
    "**Questions 4.2 :** Observer l'évolution de la proportion de la population possédant l'allèle au sein de chaque île."
   ]
  },
  {
   "cell_type": "markdown",
   "metadata": {},
   "source": [
    "# 5. L'épidémie"
   ]
  },
  {
   "cell_type": "markdown",
   "metadata": {},
   "source": [
    "Une épidémie se propage sur l'archipel, seul les individus possèdant la version du gène étudié (les cheveux bruns) peuvent y survivre. (Un truc très sérieux, genre peste bubonique ou ebola 2.0). Cette épidémie survient lors de la génération arbitraire : *n_epi*.\n"
   ]
  },
  {
   "cell_type": "markdown",
   "metadata": {},
   "source": [
    "**Question 5.1 :** Rajoutez dans la fonction *galton_island* précédente une condition permettant de modéliser ce phénomène. \n",
    "Indice : Rajouter un test correpondant à *n_epi* et ajuster la population en fonction de $p_{A,n}$, $p_{B,n}$ et $p_{C,n}$. "
   ]
  },
  {
   "cell_type": "code",
   "execution_count": 45,
   "metadata": {
    "scrolled": false
   },
   "outputs": [],
   "source": [
    "def galton_island_with_disease(Z,p_galton,p_genetics,m,n,n_epi):\n",
    "    '''\n",
    "    dict[str:int]*dict[str:dict[int:float]]*dict[str:float]*dict[tuple[str,str]:float]*int*int->List[list[int]]*List[list[float]]\n",
    "    Combinaison des deux modèles + maladie à la génération 'n_epi'\n",
    "    '''\n",
    "    # A FAIRE\n",
    "    freq,Pop = galton_island(Z,p_galton,p_genetics,m,n_epi) #des listes de listes de la periode avant l'epidemie\n",
    "    p_genetics_epi = {'A' : 1.0,'B' : 1.0,'C' : 1.0}\n",
    "    \n",
    "    Z_new = {}\n",
    "    Z_new['A'] = int(freq[-1][0]*Pop[-1][0])\n",
    "    Z_new['B'] = int(freq[-1][1]*Pop[-1][1])\n",
    "    Z_new['C'] = int(freq[-1][2]*Pop[-1][2])\n",
    "    \n",
    "    freq_epi,Pop_epi = galton_island(Z_new,p_galton,p_genetics_epi,m,n-n_epi)\n",
    "    \n",
    "    return Pop,freq,Pop_epi,freq_epi\n",
    "#galton_island_with_disease(Z,p_galton,p_genetics,m,n,n_epi)"
   ]
  },
  {
   "cell_type": "code",
   "execution_count": 46,
   "metadata": {},
   "outputs": [],
   "source": [
    "Z = {'A' : 500,\n",
    "     'B' : 10000,\n",
    "     'C' : 500} # Initial population\n",
    "keys = ['A','B','C']\n",
    "p = {0 : 0.3,\n",
    "     1 : 0.5,\n",
    "     2 : 0.1,\n",
    "     3 : 0.1}\n",
    "p_galton = {'A' : p,\n",
    "            'B' : p,\n",
    "            'C' : p}\n",
    "p_genetics = {'A' : 0.05,\n",
    "              'B' : 0.1,\n",
    "              'C' : 0.05} # Initial proportion of the population that can survive the disease. \n",
    "m = {('A','B') : 0.02, # Migration ratio from island 'A' to island 'B'\n",
    "     ('B','A') : 0.02,\n",
    "     ('A','C') : 0.05,\n",
    "     ('C','A') : 0.02,\n",
    "     ('B','C') : 0.04,\n",
    "     ('C','B') : 0.02}\n",
    "n_epi = 50\n",
    "\n",
    "\n",
    "n = 200"
   ]
  },
  {
   "cell_type": "code",
   "execution_count": 47,
   "metadata": {
    "scrolled": false
   },
   "outputs": [
    {
     "data": {
      "image/png": "[encoded data removed]",
      "text/plain": [
       "<Figure size 432x288 with 1 Axes>"
      ]
     },
     "metadata": {},
     "output_type": "display_data"
    },
    {
     "data": {
      "image/png": "[encoded data removed]",
      "text/plain": [
       "<Figure size 432x288 with 1 Axes>"
      ]
     },
     "metadata": {},
     "output_type": "display_data"
    }
   ],
   "source": [
    "Pop,Freq,Pop_epi,Freq_epi = galton_island_with_disease(Z,p_galton,p_genetics,m,n,n_epi)\n",
    "\n",
    "#plot_frequence(Freq)\n",
    "#plot_population(Pop)\n",
    "#plot_frequence(Freq_epi)\n",
    "#plot_population(Pop_epi)\n",
    "plot_frequence(Freq+Freq_epi)\n",
    "plot_population(Pop+Pop_epi)"
   ]
  },
  {
   "cell_type": "markdown",
   "metadata": {},
   "source": [
    "**Questions 5.2 :**\n",
    "  - Faire varier les paramètres des 2 modèles afin de faire survivre les populations des trois iles.\n",
    "  - Faire varier les paramètres afin de faire survivre seulement les habitants des îles $A$ et $B$.\n",
    "  - Faire varier les paramètres afin de faire survivre seulement les habitant de l'île $C$."
   ]
  },
  {
   "cell_type": "code",
   "execution_count": null,
   "metadata": {},
   "outputs": [],
   "source": []
  },
  {
   "cell_type": "code",
   "execution_count": null,
   "metadata": {},
   "outputs": [],
   "source": []
  },
  {
   "cell_type": "code",
   "execution_count": null,
   "metadata": {},
   "outputs": [],
   "source": []
  },
  {
   "cell_type": "code",
   "execution_count": null,
   "metadata": {},
   "outputs": [],
   "source": []
  }
 ],
 "metadata": {
  "kernelspec": {
   "display_name": "Python 3",
   "language": "python",
   "name": "python3"
  },
  "language_info": {
   "codemirror_mode": {
    "name": "ipython",
    "version": 3
   },
   "file_extension": ".py",
   "mimetype": "text/x-python",
   "name": "python",
   "nbconvert_exporter": "python",
   "pygments_lexer": "ipython3",
   "version": "3.5.3"
  }
 },
 "nbformat": 4,
 "nbformat_minor": 2
}
