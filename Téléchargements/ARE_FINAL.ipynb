{
 "cells": [
  {
   "cell_type": "code",
   "execution_count": 1,
   "metadata": {},
   "outputs": [],
   "source": [
    "from random import randint\n",
    "import numpy as np\n",
    "import matplotlib.pyplot as plt\n",
    "import matplotlib.animation as anim\n",
    "%matplotlib qt "
   ]
  },
  {
   "cell_type": "markdown",
   "metadata": {},
   "source": [
    "# Dynamique de déplacement de voitures dans un système autoroutier"
   ]
  },
  {
   "cell_type": "markdown",
   "metadata": {},
   "source": [
    "[FR]\n",
    "\n",
    "Nous avons choisi d’étudier les dynamiques de déplacement des voitures sur différents types de routes afin de pouvoir comprendre quelle type de route est le plus efficace et comment pourrait-on faire pour fluidifier les trafics routiers.\n",
    "\n",
    "Nous avons donc créer plusieurs types de routes sur lesquelles nous avons simuler différents groupes de voitures qui agissent entres elles et qui ont une certaine probabilité d’avoir un accident.\n",
    "\n",
    "On s’attendait au debut à constater que si une route allant d’un point A à un point B etait large et utilisé et plus il etait nécessaire de la prendre pour arriver le plus rapidement à déstination.\n",
    "\n",
    "Or nous avons pu observé qu'en rentrant des probabilités accidentelles propre aux différents types de routes, il était au final largement plus intéressant de prendre une route à une voie plus longue qu'une route à 2 voie plus courte.\n",
    "\n",
    "Notre conclusion est assimilable à l'exemple de Pigou (1920)"
   ]
  },
  {
   "cell_type": "markdown",
   "metadata": {},
   "source": [
    "[EN]\n",
    "\n",
    "We chose to study the dynamics of moving cars on different types of roads in order to understand which type of road is the most efficient and how could we make traffic flows smoother.\n",
    "\n",
    "So we created several types of roads on which we simulate different groups of cars that act between them and have a certain probability of having an accident.\n",
    "\n",
    "It was initially expected that if a route from point A to point B was wide and used, it was necessary to take it to reach the destination as quickly as possible.\n",
    "\n",
    "However, we observed that, in entering accidental probabilities specific to the different types of roads, it was in fact much more interesting to take a longer one-lane road than a shorter two-lane road.\n",
    "\n",
    "Our conclusion is comparable to the example of Pigou (1920)     "
   ]
  },
  {
   "cell_type": "markdown",
   "metadata": {},
   "source": [
    "# 1. Modèle de route à une voie"
   ]
  },
  {
   "cell_type": "markdown",
   "metadata": {},
   "source": [
    "### Comment modéliser un tel phénomène ?\n",
    "\n",
    "Considérons un ensemble de **voitures**. Par soucis de simplicité nous faisons abstraction des variations de vitesses et considérons que toutes les voitures se déplacent soit à une vitesse constante, soit à une vitesse nulle si elles sont à l'arrêt. Une voiture à une probabilité $p$ de tomber en panne pendant un temps $t$. Afin de pouvoir obtenir une simulation visualisable, nous choisirons une probabilité assez élevée (0.5% pour chaque tour pour chaque voiture).\n",
    "Chaque individu du groupe de voiture est modélisé par un son numero d'arrivé sur la route ce qui nous permet de \"tracer\" cette dernière sur la route."
   ]
  },
  {
   "cell_type": "markdown",
   "metadata": {},
   "source": [
    "Commençons par créer notre classe voiture.\n",
    "On définit sa position sur la route et sur la voie, le temps qu'elle reste sur cette route, sa probabilité d'avoir un accident, son etat (si accidenté ou non) ainsi que son numero d'arrivé sur la route.\n",
    "On définit ensuite une fonction qui va permettre aux voitures de rouler.\n",
    "Si elles sont dans un etat non accidenté, elles peuvent avancer et ont une probabilité $p$ de tomber en panne, tandis que si une voiture est accidentée, elle ne peut pas re-tomber en passe et ne peut pas avancer."
   ]
  },
  {
   "cell_type": "code",
   "execution_count": 52,
   "metadata": {},
   "outputs": [],
   "source": [
    "class voiture:\n",
    "    \n",
    "    def __init__(self, proba,name):\n",
    "        self.x = 0\n",
    "        self.y = 1\n",
    "        self.temp = 0\n",
    "        self.proba = proba\n",
    "        self.etat = 0 #si different de 0 alors accident et traffic à l'arret\n",
    "        self.j = name\n",
    "\n",
    "    def roule(self):\n",
    "        if self.etat == 0:\n",
    "            self.x += 1\n",
    "            if self.proba == 0 :\n",
    "                self.accident = 0\n",
    "            else :\n",
    "                self.accident = randint(1, self.proba)\n",
    "                #Il y a une autre façon de génerer une probabilité que l'on\n",
    "                #dans les simulation qui suivront.\n",
    "            if self.accident == 1 and self.x>0:\n",
    "                self.etat = 8\n",
    "        else :\n",
    "            self.etat += -1\n",
    "    "
   ]
  },
  {
   "cell_type": "markdown",
   "metadata": {},
   "source": [
    "Créons maintenant notre classe voiture.\n",
    "On définit la liste de voitures qui va la traverser, le débit de voiture sur la route, la grille matricielle sur laquelle on representa les voitures avec différentes températures afin de pouvoir obtenir une visulation graphique de l'avancé à l'aide de np.zeros, la distance de la route, la probabilité qu'ont les voitures de tomber en panne ainsi que le nombre des voitures qui ont finit de traverser."
   ]
  },
  {
   "cell_type": "code",
   "execution_count": 53,
   "metadata": {},
   "outputs": [],
   "source": [
    "class route:\n",
    "    \n",
    "    def __init__(self, debit, distance, proba):\n",
    "        self.voitures = [voiture(proba,0)]\n",
    "        self.debit = debit\n",
    "        #fin de l'ajout\n",
    "        \n",
    "        self.grid = np.zeros(shape=(distance,3))\n",
    "        self.distance = distance\n",
    "        self.state_route = self.grid\n",
    "        self.proba = proba\n",
    "        \n",
    "        #truc pour le temps\n",
    "        self.inc = 0\n",
    "        self.voitures_passe = 0\n",
    "\n",
    "    def update_route(self):\n",
    "        \n",
    "        ancienne_route = self.state_route.copy()\n",
    "        \n",
    "        self.state_route = np.zeros((self.distance, 3))\n",
    "        \n",
    "        for item in self.voitures:\n",
    "            if item.x>=0 and item.x<(self.distance-1) and ancienne_route[item.x+1][item.y] != 0:\n",
    "                item.etat = 1\n",
    "                item.temp += 1\n",
    "                self.state_route[item.x][item.y] = 6\n",
    "                item.roule()\n",
    "            else :\n",
    "                item.roule()\n",
    "                if item.x >= 0 and item.x < self.distance:\n",
    "                    item.temp += 1\n",
    "                    self.state_route[item.x][item.y] = 10\n",
    "                    if item.etat != 0 :\n",
    "                        self.state_route[item.x][item.y] = 6\n",
    "        \n",
    "        #generation de nouvelles voitures\n",
    "        self.inc += 1\n",
    "        if self.inc%self.debit == 0 and self.state_route[1][0] == 0 and self.state_route[1][1] == 0 and self.state_route[1][2] == 0:\n",
    "            self.voitures.append(voiture(self.proba,self.inc))\n",
    "            \n",
    "    def bilan(self) :\n",
    "        nb = 0\n",
    "        temps = 0\n",
    "        for i in self.voitures :\n",
    "            if i.x >= self.distance :\n",
    "                nb += 1\n",
    "                temps += i.temp\n",
    "        print(\"les voitures ont mis {} tours en moyenne pour traverser la route\".format(temps/nb))\n",
    "           "
   ]
  },
  {
   "cell_type": "markdown",
   "metadata": {},
   "source": [
    "On test notre route en lui atribuant une distance de 2, une route de longueur 15 et une probabilité de tomber en panne de 1%."
   ]
  },
  {
   "cell_type": "code",
   "execution_count": 54,
   "metadata": {},
   "outputs": [
    {
     "name": "stdout",
     "output_type": "stream",
     "text": [
      "les voitures ont mis 29 tours en moyenne pour traverser la route\n"
     ]
    },
    {
     "data": {
      "image/png": "[encoded data removed]",
      "text/plain": [
       "<matplotlib.figure.Figure at 0x7fe1ecdb23d0>"
      ]
     },
     "metadata": {},
     "output_type": "display_data"
    }
   ],
   "source": [
    "images = []\n",
    "road = route(4,25,100)\n",
    "fig = plt.figure()\n",
    "for j in range(300):\n",
    "    road.update_route()\n",
    "    road.state_route\n",
    "\n",
    "    image = plt.imshow(road.state_route, vmin=0, vmax=13, cmap=\"hot\")\n",
    "    images.append([image])\n",
    "animation= anim.ArtistAnimation(fig, images)\n",
    "animation.save(\"./Video_num1.mp4\")\n",
    "road.bilan()"
   ]
  },
  {
   "cell_type": "markdown",
   "metadata": {
    "collapsed": true
   },
   "source": [
    "# 2. Modèle de route à une voie avec une sortie"
   ]
  },
  {
   "cell_type": "markdown",
   "metadata": {
    "collapsed": true
   },
   "source": [
    "Dans cette seconde partie nous utiliserons une route simulaire à celle simulée précedemment qui aura en plus une sortie de voie placée sur la route."
   ]
  },
  {
   "cell_type": "markdown",
   "metadata": {},
   "source": [
    "On rajoute à la classe voiture une valeur immun qui fera en sorte que, si la voiture a pris la sortie, cette dernière ne pourra pas avoir d'accident."
   ]
  },
  {
   "cell_type": "code",
   "execution_count": 55,
   "metadata": {},
   "outputs": [],
   "source": [
    "class voiture:\n",
    "    \n",
    "    def __init__(self, proba,name):\n",
    "        self.x = 0\n",
    "        self.y = 1\n",
    "        self.temp = 0\n",
    "        self.proba = proba\n",
    "        self.etat = 0 #si different de 0 alors accident et stop traffic\n",
    "        self.j = name\n",
    "\n",
    "    def roule(self):\n",
    "        if self.etat == 0:\n",
    "            self.x += 1\n",
    "            if self.proba == 0 :\n",
    "                self.accident = 0\n",
    "            else :\n",
    "                self.accident = randint(1, self.proba)\n",
    "                #Il y a une autre façon de génerer une probabilité que l'on\n",
    "                #dans les simulation qui suivront.\n",
    "            if self.accident == 1 and self.x>0:\n",
    "                #si la voiture est acidentée elle ne sera pas accidentée.\n",
    "                self.etat = 8\n",
    "        else :\n",
    "            self.etat += -1\n",
    "    "
   ]
  },
  {
   "cell_type": "markdown",
   "metadata": {},
   "source": [
    "On initialisera maintenant la route en lui atribuant la valeur de la sortie souhatée, ainsi, si la une voiture est embouteillée à cet emplacement, elle aura la possibilité de prendre la sortie."
   ]
  },
  {
   "cell_type": "code",
   "execution_count": 56,
   "metadata": {},
   "outputs": [],
   "source": [
    "class route:\n",
    "    \n",
    "    def __init__(self, debit, distance, proba, sortie):\n",
    "        self.voitures = [voiture(proba,0)]\n",
    "        self.debit = debit\n",
    "        #fin de l'ajout\n",
    "        self.sortie = sortie\n",
    "        self.grid = np.zeros(shape=(distance,5))\n",
    "        self.distance = distance\n",
    "        self.state_route = self.grid\n",
    "        self.proba = proba\n",
    "        \n",
    "        #truc pour le temps\n",
    "        self.inc = 0\n",
    "        self.voitures_passe = 0\n",
    "\n",
    "    def update_route(self):\n",
    "        \n",
    "        ancienne_route = self.state_route.copy()\n",
    "        \n",
    "        self.state_route = np.zeros((self.distance, 5))\n",
    "        \n",
    "        for item in self.voitures:\n",
    "            if item.x>=0 and item.x<(self.distance-1) and ancienne_route[item.x+1][item.y] != 0:\n",
    "                if item.x == self.sortie :\n",
    "                    #la voiture peut prendre la sortie, on la rend immunisé pour les accidents en \n",
    "                    #affectant une valeur à proba. On change aussi ses coordonnée et on la place sur\n",
    "                    #la route.\n",
    "                    item.proba = 0\n",
    "                    item.y = 3\n",
    "                    self.state_route[item.x+1][item.y] = 10\n",
    "                else : \n",
    "                    item.etat = 1\n",
    "                    self.state_route[item.x][item.y] = 6\n",
    "                item.roule()\n",
    "                item.temp += 1\n",
    "            else :\n",
    "                item.roule()\n",
    "                if item.x >= 0 and item.x < self.distance:\n",
    "                    item.temp += 1\n",
    "                    self.state_route[item.x][item.y] = 10\n",
    "                    if item.etat != 0 :\n",
    "                        self.state_route[item.x][item.y] = 6\n",
    "        \n",
    "        #generation de nouvelles voitures\n",
    "        self.inc += 1\n",
    "        if self.inc%self.debit == 0 and self.state_route[1][0] == 0 and self.state_route[1][1] == 0 and self.state_route[1][2] == 0:\n",
    "            self.voitures.append(voiture(self.proba,self.inc))\n",
    "            \n",
    "    def bilan(self) :\n",
    "        nb = 0\n",
    "        temps = 0\n",
    "        for i in self.voitures :\n",
    "            if i.x >= self.distance :\n",
    "                nb += 1\n",
    "                temps += i.temp\n",
    "        print(\"les voitures ont mis {} tours en moyenne pour traverser la route\".format(temps/nb))\n",
    "           "
   ]
  },
  {
   "cell_type": "code",
   "execution_count": 57,
   "metadata": {},
   "outputs": [
    {
     "name": "stdout",
     "output_type": "stream",
     "text": [
      "les voitures ont mis 28 tours en moyenne pour traverser la route\n"
     ]
    },
    {
     "data": {
      "image/png": "[encoded data removed]",
      "text/plain": [
       "<matplotlib.figure.Figure at 0x7fe1ecd73690>"
      ]
     },
     "metadata": {},
     "output_type": "display_data"
    }
   ],
   "source": [
    "images = []\n",
    "road = route(4,25,100,7)\n",
    "fig = plt.figure()\n",
    "for j in range(300):\n",
    "    road.update_route()\n",
    "    road.state_route\n",
    "\n",
    "    image = plt.imshow(road.state_route, vmin=0, vmax=13, cmap=\"hot\")\n",
    "    images.append([image])\n",
    "animation= anim.ArtistAnimation(fig, images)\n",
    "animation.save(\"./Video_num2.mp4\")\n",
    "road.bilan()"
   ]
  },
  {
   "cell_type": "markdown",
   "metadata": {},
   "source": [
    "# 3. Modèle de route à deux voies sans changement de voie."
   ]
  },
  {
   "cell_type": "markdown",
   "metadata": {},
   "source": [
    "Dans cette partie nous simulerons 2 routes simulaires à celles simulées précedemment.\n",
    "\n",
    "( possibilitée de passer directement à la partie suivante )"
   ]
  },
  {
   "cell_type": "markdown",
   "metadata": {},
   "source": [
    "La classe voiture est identique à celle de base excepté qu'elle prend maintenant un paramètre en plus, la couleur qui la définit, afin de différencier les voitures des deux voies."
   ]
  },
  {
   "cell_type": "code",
   "execution_count": 58,
   "metadata": {},
   "outputs": [],
   "source": [
    "class voiture:\n",
    "    \n",
    "    def __init__(self, proba, name, couleur):\n",
    "        self.x = 0\n",
    "        self.temps = 0\n",
    "        self.proba = proba\n",
    "        self.etat = 0 #si different de 0 alors accident et stop traffic\n",
    "        self.j = name\n",
    "        self.couleur = couleur\n",
    "        self.accident = 0\n",
    "        self.temp = 0\n",
    "\n",
    "    #la fonction qui fait rouler les voitures\n",
    "    def roule(self):\n",
    "        #sert à connaitre le temps mis par une voiture pour traverser la route\n",
    "        if self.etat == 0: # si la voiture n'est pas accidentée\n",
    "            self.x = self.x + 1\n",
    "            #seconde facon d'utiliser les probabilitées\n",
    "            if (np.random.uniform(0,1) < self.proba):\n",
    "                self.etat = 8\n",
    "        else :\n",
    "            self.etat += -1"
   ]
  },
  {
   "cell_type": "markdown",
   "metadata": {},
   "source": [
    "Il est donc nécessaire de générer deux listes distinctes pour générer deux groupes de voiture indépendants que l'on fera rouler de la même fçon que précedemment."
   ]
  },
  {
   "cell_type": "code",
   "execution_count": 59,
   "metadata": {},
   "outputs": [],
   "source": [
    "class route:\n",
    "    \n",
    "    def __init__(self, debit, distance, proba):\n",
    "        #1er groupe de voitures :\n",
    "        self.voitures1 = [voiture(proba=proba, name=0, couleur=9)]\n",
    "        #2eme groupe de voitures :\n",
    "        self.voitures2 = [voiture(proba=proba, name=0, couleur=13)]\n",
    "        self.debit = debit\n",
    "        \n",
    "        self.grid = np.zeros(shape=(distance,5))\n",
    "        self.distance = distance\n",
    "        self.state_route = np.zeros((self.distance, 5))\n",
    "        self.proba = proba\n",
    "    \n",
    "        self.inc = 0\n",
    "        self.voitures_passe = 0\n",
    "\n",
    "    def update_route(self):\n",
    "        \n",
    "        ancienne_route = self.state_route.copy()\n",
    "    \n",
    "        self.state_route = ancienne_route\n",
    "        self.state_route[:, 1] = 0\n",
    "                        \n",
    "        for item in self.voitures1: #voie gauche\n",
    "            ### Si il y a blocage devant et que je peux passer sur l'autre voie\n",
    "            if item.x >= 0 and item.x < (self.distance -1) \\\n",
    "                           and ancienne_route[item.x + 1][1] != 0:\n",
    "                item.etat = 2\n",
    "                self.state_route[item.x][1] = 5 # couleur arret \n",
    "                item.temp += 1\n",
    "                item.roule()\n",
    "\n",
    "            else :\n",
    "                item.roule()\n",
    "                if item.x >= 0 and item.x < self.distance:\n",
    "                    item.temp += 1\n",
    "                    self.state_route[item.x][1] = item.couleur#couleur gauche\n",
    "                    if item.etat != 0 : # si accident sur le .roule()\n",
    "                        self.state_route[item.x][1] = 5 #couleur arret\n",
    "                        \n",
    "            #print(' emplacement1 : {} voit num: '.format(item.x), item.j)\n",
    "        self.state_route[:, 3] = 0\n",
    "        \n",
    "        for item in self.voitures2:\n",
    "            if item.x>=0 and item.x<(self.distance-1) \\\n",
    "                         and self.state_route[item.x + 1][3] != 0:\n",
    "                item.etat = 2\n",
    "                self.state_route[item.x][3] = 5 # couleur arret \n",
    "                item.temp += 1\n",
    "                item.roule()\n",
    "\n",
    "            else :\n",
    "                item.roule()\n",
    "                if item.x >= 0 and item.x < self.distance:\n",
    "                    item.temp += 1\n",
    "                    self.state_route[item.x][3] = item.couleur\n",
    "                    if item.etat != 0 :\n",
    "                        self.state_route[item.x][3] = 5\n",
    "                 \n",
    "            #print([item.x for item in self.voitures])\n",
    "        \n",
    "        #generation de nouvelles voitures\n",
    "        self.inc += 1\n",
    "        #On génere ici la première liste de voitures\n",
    "        \n",
    "        if self.inc%self.debit == 0 and self.state_route[0][1] == 0 and self.state_route[1][1] == 0:\n",
    "            self.voitures1.append(voiture(self.proba,self.inc,9))\n",
    "            \n",
    "        #On génere ici la seconde liste de voitures\n",
    "        \n",
    "        if self.inc%self.debit == 0 and self.state_route[0][3] == 0 and self.state_route[1][3] == 0:\n",
    "            self.voitures2.append(voiture(self.proba,self.inc,13))\n",
    "        \n",
    "    def bilan(self) :\n",
    "        nb = 0\n",
    "        temps = 0\n",
    "        for i in self.voitures1 :\n",
    "            if i.x >= self.distance :\n",
    "                nb += 1\n",
    "                temps += i.temp\n",
    "        for i in self.voitures2 :\n",
    "            if i.x >= self.distance :\n",
    "                nb += 1\n",
    "                temps += i.temp\n",
    "        print(\"les voitures ont mis {} tours en moyenne pour traverser la route\".format(temps/nb))\n"
   ]
  },
  {
   "cell_type": "code",
   "execution_count": 60,
   "metadata": {
    "scrolled": true
   },
   "outputs": [
    {
     "name": "stdout",
     "output_type": "stream",
     "text": [
      "les voitures ont mis 29 tours en moyenne pour traverser la route\n"
     ]
    },
    {
     "data": {
      "image/png": "[encoded data removed]",
      "text/plain": [
       "<matplotlib.figure.Figure at 0x7fe1bac6ba90>"
      ]
     },
     "metadata": {},
     "output_type": "display_data"
    }
   ],
   "source": [
    "images = []\n",
    "road = route(4,25, 0.01)\n",
    "fig = plt.figure()\n",
    "for j in range(300):\n",
    "    road.update_route()\n",
    "    road.state_route\n",
    "\n",
    "    image = plt.imshow(road.state_route, vmin=0, vmax=13, cmap=\"hot\")\n",
    "    images.append([image])\n",
    "animation= anim.ArtistAnimation(fig, images)\n",
    "animation.save(\"./Video_num3.mp4\")\n",
    "road.bilan()"
   ]
  },
  {
   "cell_type": "markdown",
   "metadata": {},
   "source": [
    "# 4. Modèle de route à deux voies avec changement de voie."
   ]
  },
  {
   "cell_type": "markdown",
   "metadata": {},
   "source": [
    "Dans cette dernière partie, nous simulerons donc de la même façon que précedemment 2 routes distinctes. Ici en revanche nous ferons intéragir les 2 groupes de voitures entre eux. Nous ferons en sorte que lorsqu'une voiture est bloquée sur la route elle passe sur l'autre route si elle en a la possibilitée."
   ]
  },
  {
   "cell_type": "markdown",
   "metadata": {},
   "source": [
    "On utilise la même classe voiture utilisée précedemment."
   ]
  },
  {
   "cell_type": "code",
   "execution_count": 67,
   "metadata": {},
   "outputs": [],
   "source": [
    "class voiture:\n",
    "    \n",
    "    def __init__(self, proba, name, couleur):\n",
    "        self.x = 0\n",
    "        self.proba = proba\n",
    "        self.etat = 0 #si different de 0 alors accident et stop traffic\n",
    "        self.j = name\n",
    "        self.couleur = couleur\n",
    "        self.accident = 0\n",
    "        self.temp = 0 #LE COMPTEEEEUR\n",
    "\n",
    "    #la fonction qui fait rouler les voitures\n",
    "    def roule(self):\n",
    "        #sert à connaitre le temps mis par une voiture pour traverser la route\n",
    "        if self.etat == 0: # si la voiture n'est pas accidentée\n",
    "            self.x = self.x + 1\n",
    "            \n",
    "            if int(np.random.uniform(0,1) < self.proba):\n",
    "                self.etat = 8\n",
    "        else :\n",
    "            self.etat += -1"
   ]
  },
  {
   "cell_type": "markdown",
   "metadata": {},
   "source": [
    "Nous allons donc comme précedemment génerer deux listes indépendentes. Afin de faire passer une voiture d'une voie à l'autre il sera necessaire de regarder si la voiture à la place pour se joindre à l'autre liste, de l'ajouter à l'autre liste au bon emplacement ainsi que de la supprimer de la liste initiale."
   ]
  },
  {
   "cell_type": "code",
   "execution_count": 68,
   "metadata": {},
   "outputs": [],
   "source": [
    "class route:\n",
    "    \n",
    "    def __init__(self, debit, distance, proba):\n",
    "        self.voitures1 = [voiture(proba=proba, name=0, couleur=9)]\n",
    "        self.voitures2 = [voiture(proba=proba, name=0, couleur=13)]\n",
    "        self.debit = debit\n",
    "        \n",
    "        self.grid = np.zeros(shape=(distance,5))\n",
    "        self.distance = distance\n",
    "        self.state_route = np.zeros((self.distance, 5))\n",
    "        self.proba = proba\n",
    "    \n",
    "        self.inc = 0\n",
    "        self.voitures_passe = 0\n",
    "\n",
    "    def update_route(self):\n",
    "        \n",
    "        ancienne_route = self.state_route.copy()\n",
    "    \n",
    "        self.state_route = ancienne_route\n",
    "        self.state_route[:, 1] = 0\n",
    "\n",
    "        for idx, item in enumerate(self.voitures1): #voie gauche\n",
    "            ### Si il y a blocage devant et que je peux passer sur l'autre voie\n",
    "            if item.x >= 0 and item.x < (self.distance -1) \\\n",
    "                           and ancienne_route[item.x + 1][1] != 0:\n",
    "                    \n",
    "                item.temp += 1\n",
    "                \n",
    "                if ancienne_route[item.x - 1][3] == 0 \\\n",
    "                   and ancienne_route[item.x][3] == 0 \\\n",
    "                   and ancienne_route[item.x + 1][3] == 0 \\\n",
    "                   and item.x != 1:\n",
    "\n",
    "                    self.state_route[item.x][3] = item.couleur #couleur gauche\n",
    "                    item.etat = 0\n",
    "                    \n",
    "                    #On ajoute la voiture dans l'autre liste et on la supprime de la liste initiale.\n",
    "                    for i in range(len(self.voitures2)) :\n",
    "                    \n",
    "                        if self.voitures2[i].x < item.x :\n",
    "                            self.voitures2.insert(i, item)\n",
    "                            self.voitures1 = [x for i, x in enumerate(self.voitures1) if i != idx]\n",
    "                            print(\"voiture de la voie 1 supprimee a la position: {}\".format(item.x))\n",
    "                            break\n",
    "                else:\n",
    "                    item.etat = 1\n",
    "                    self.state_route[item.x][1] = 5 # couleur arret\n",
    "                    \n",
    "\n",
    "            else :\n",
    "                item.roule()\n",
    "                if item.x >= 0 and item.x < self.distance:\n",
    "                    item.temp += 1\n",
    "                    self.state_route[item.x][1] = item.couleur#couleur gauche\n",
    "                    if item.etat != 0 : # si accident sur le .roule()\n",
    "                        self.state_route[item.x][1] = 5 #couleur arret\n",
    "                \n",
    "            #print(' emplacement1 : {} voit num: '.format(item.x), item.j)\n",
    "        self.state_route[:, 3] = 0\n",
    "        \n",
    "        for idx, item in enumerate(self.voitures2):\n",
    "            if item.x>=0 and item.x<(self.distance-1) \\\n",
    "                         and self.state_route[item.x + 1][3] != 0:\n",
    "                    \n",
    "                item.temp += 1\n",
    "                \n",
    "                if self.state_route[item.x -1][1] == 0 and self.state_route[item.x][1] == 0 \\\n",
    "                         and self.state_route[item.x + 1][1] == 0 \\\n",
    "                         and item.x != 1:\n",
    "                    self.state_route[item.x][1] = item.couleur\n",
    "                    item.etat = 0\n",
    "\n",
    "                    for i in range(len(self.voitures1)):\n",
    "                        if self.voitures1[i].x < item.x :\n",
    "                            self.voitures1.insert(i, item)\n",
    "                            print(\"voiture de la voie 2 supprimee a la position: {}\".format(item.x))\n",
    "                            self.voitures2 = [x for i, x in enumerate(self.voitures2) if i != idx]\n",
    "                            break\n",
    "\n",
    "                else:\n",
    "                    item.etat = 1\n",
    "                    self.state_route[item.x][3] = 5 #arret\n",
    "                \n",
    "\n",
    "            else :\n",
    "                item.roule()\n",
    "                if item.x >= 0 and item.x < self.distance:\n",
    "                    item.temp += 1\n",
    "                    self.state_route[item.x][3] = item.couleur\n",
    "                    if item.etat != 0 :\n",
    "                        self.state_route[item.x][3] = 5\n",
    "                 \n",
    "            #print([item.x for item in self.voitures])\n",
    "        \n",
    "        #generation de nouvelles voitures\n",
    "        self.inc += 1\n",
    "        if self.inc%self.debit == 0 and self.state_route[0][1] == 0 and self.state_route[1][1] == 0:\n",
    "            self.voitures1.append(voiture(self.proba,self.inc,9))\n",
    "        if self.inc%self.debit == 0 and self.state_route[0][3] == 0 and self.state_route[1][3] == 0:\n",
    "            self.voitures2.append(voiture(self.proba,self.inc,13))\n",
    "        \n",
    "        #compteur de voitures passées\n",
    "        #for i in self.voitures1:\n",
    "            #if i.x == self.distance :\n",
    "                #print( \"ping ! la voiture \",i.j,\" a traversee l'autoroute ! elle a mis\",i.temps)\n",
    "                #del i\n",
    "    def bilan(self) :\n",
    "        nb = 0\n",
    "        temps = 0\n",
    "        for i in self.voitures1 :\n",
    "            if i.x >= self.distance :\n",
    "                nb += 1\n",
    "                temps += i.temp\n",
    "        for i in self.voitures2 :\n",
    "            if i.x >= self.distance :\n",
    "                nb += 1\n",
    "                temps += i.temp\n",
    "        print(\"les voitures ont mis {} tours en moyenne pour traverser la route\".format(temps/nb))\n",
    "        "
   ]
  },
  {
   "cell_type": "code",
   "execution_count": 73,
   "metadata": {
    "scrolled": true
   },
   "outputs": [
    {
     "name": "stdout",
     "output_type": "stream",
     "text": [
      "voiture de la voie 1 supprimee a la position: 22\n",
      "voiture de la voie 1 supprimee a la position: 22\n",
      "voiture de la voie 1 supprimee a la position: 7\n",
      "voiture de la voie 1 supprimee a la position: 8\n",
      "voiture de la voie 1 supprimee a la position: 8\n",
      "voiture de la voie 1 supprimee a la position: 3\n",
      "voiture de la voie 1 supprimee a la position: 9\n",
      "voiture de la voie 1 supprimee a la position: 9\n",
      "voiture de la voie 1 supprimee a la position: 5\n",
      "voiture de la voie 1 supprimee a la position: 5\n",
      "voiture de la voie 1 supprimee a la position: 5\n",
      "voiture de la voie 2 supprimee a la position: 10\n",
      "voiture de la voie 2 supprimee a la position: 10\n",
      "voiture de la voie 1 supprimee a la position: 19\n",
      "voiture de la voie 2 supprimee a la position: 16\n",
      "voiture de la voie 1 supprimee a la position: 20\n",
      "voiture de la voie 1 supprimee a la position: 20\n",
      "voiture de la voie 2 supprimee a la position: 4\n",
      "voiture de la voie 1 supprimee a la position: 8\n",
      "voiture de la voie 1 supprimee a la position: 8\n",
      "voiture de la voie 2 supprimee a la position: 10\n",
      "voiture de la voie 1 supprimee a la position: 3\n",
      "voiture de la voie 2 supprimee a la position: 10\n",
      "voiture de la voie 2 supprimee a la position: 8\n",
      "voiture de la voie 2 supprimee a la position: 8\n",
      "voiture de la voie 1 supprimee a la position: 15\n",
      "voiture de la voie 1 supprimee a la position: 8\n",
      "voiture de la voie 2 supprimee a la position: 21\n",
      "voiture de la voie 2 supprimee a la position: 21\n",
      "voiture de la voie 1 supprimee a la position: 14\n",
      "voiture de la voie 1 supprimee a la position: 14\n",
      "voiture de la voie 2 supprimee a la position: 23\n",
      "voiture de la voie 2 supprimee a la position: 22\n",
      "voiture de la voie 1 supprimee a la position: 9\n",
      "voiture de la voie 1 supprimee a la position: 22\n",
      "voiture de la voie 1 supprimee a la position: 18\n",
      "les voitures ont mis 26 tours en moyenne pour traverser la route\n"
     ]
    },
    {
     "data": {
      "image/png": "[encoded data removed]",
      "text/plain": [
       "<matplotlib.figure.Figure at 0x7fe1b87fc550>"
      ]
     },
     "metadata": {},
     "output_type": "display_data"
    }
   ],
   "source": [
    "images = []\n",
    "road = route(4,25, 0.01)\n",
    "fig = plt.figure()\n",
    "for j in range(300):\n",
    "    road.update_route()\n",
    "    road.state_route\n",
    "\n",
    "    image = plt.imshow(road.state_route, vmin=0, vmax=13, cmap=\"hot\")\n",
    "    images.append([image])\n",
    "animation= anim.ArtistAnimation(fig, images)\n",
    "animation.save(\"./Video_num4.mp4\")\n",
    "road.bilan()"
   ]
  },
  {
   "cell_type": "markdown",
   "metadata": {},
   "source": [
    "# 4. Expérimentations et observations."
   ]
  },
  {
   "cell_type": "markdown",
   "metadata": {},
   "source": [
    "Nous cherchons donc à vérifier si il est plus judicieux de prendre une route large très empruntée ou bien une route à une voie plus longue moins empruntée. \n",
    "\n",
    "Afin de modéliser cela nous pouvons nous servir de statistiques obtenues sur un article d'un des sites officiel du gouvernement : https://www.onisr.securite-routiere.interieur.gouv.fr/contenus/etudes-et-recherches/environnement-et-infrastructures/reseaux-ruraux/hierarchisation-des-reseaux-routiers-departementaux-et-accidentalite\n",
    "\n",
    "Cet article nous informe que le réseau structurant (routes à plus de 2 voies) représente 1/3 du linéaire de réseau départemental mais porte les 2/3 du trafic et des accidents.\n",
    "\n",
    "Cela signifie que 2/3 du linéaire de réseau routier est non-structurant (1 voie) et porte 1/3 du trafic et des accidents. Ainsi 1/3 du linéaire de réseau routier est non-structurant (1 voie) et porte 1/6 du trafic et des accidents, soit 4 fois moins qu'un résau structurant.\n",
    "\n",
    "Nous avons donc modéliser la route à une voie avec une probabilitée accidentelle de 1% et avons modéliser la route à 2 voies avec une probabilité accidentelle de 4%.\n",
    "\n",
    "Nous avons éffectués ces modélisations 10 fois sur 500 itérations.\n",
    "\n",
    "Nous avons obtenus que sur une route a une voie de longueur 75 et une probabilité d'avoir un accident de 1%, les personnes mettent en moyenne 90 iterations a parcourir la route, tandis que pour une route a 2 voies d'une longueur inférieur (70) et une probabilité d'avoir un accident de 4%, les voitures mettent en moyenne 145 itérations a parcourir la route.\n",
    "\n",
    "On peut donc conclure que prendre une route juste parcequ'elle est large n'est pas forcément judicieux.\n",
    "\n",
    "Ainsi notre hypothèse de base, qui est une idée très répendu, était fausse.\n",
    "\n",
    "On peut assimiler nos résultats au prix de l'anarchie et plus précisément à la remarque de pigou qui dit que un système de communication régulé de manière « centralisée », imposant des comportements à certains individus, peut circuler beaucoup mieux qu’un système dans lequel chacun peut choisir son comportement comme bon lui semble. L’« optimum social » est (parfois) bien meilleur que l’« optimum libéral ». Pas vraiment une surprise. L’union fait la force...\n",
    "\n",
    "Un exemple assez connu à eu lieu en 1990 à l’occasion de la « journée de la Terre ». La municipalité de New York décida de fermer la 42-ème rue à la circulation. Cette rue étant l’une des plus animées de Manhattan, on pensait que cette fermeture ne manquerait pas de ralentir la circulation et de provoquer des embouteillages supplémentaires. C’est le contraire qui se passa : le fait de fermer la 42-ème rue rendit la circulation plus fluide !\n"
   ]
  },
  {
   "cell_type": "markdown",
   "metadata": {},
   "source": [
    "# Bibliographie"
   ]
  },
  {
   "cell_type": "markdown",
   "metadata": {},
   "source": [
    "https://en.wikipedia.org/wiki/Microscopic_traffic_flow_model\n",
    "\n",
    "https://en.wikipedia.org/wiki/Biham%E2%80%93Middleton%E2%80%93Levine_traffic_model\n",
    "\n",
    "https://en.wikipedia.org/wiki/Nagel%E2%80%93Schreckenberg_model\n",
    "\n",
    "https://images.math.cnrs.fr/Le-prix-de-l-anarchie \n",
    "\n",
    "https://fr.wikipedia.org/wiki/Prix_de_l%27anarchie \n",
    "\n",
    "http://victorknoop.eu/research/papers/chapter_vanwee.pdf\n",
    "\n",
    "https://ascelibrary.org/doi/abs/10.1061/(ASCE)0733-947X(1997)123:4(261)\n",
    "\n",
    "https://www.sciencedirect.com/science/article/pii/019126079090047A"
   ]
  },
  {
   "cell_type": "code",
   "execution_count": null,
   "metadata": {},
   "outputs": [],
   "source": []
  }
 ],
 "metadata": {
  "kernelspec": {
   "display_name": "Python 2",
   "language": "python",
   "name": "python2"
  },
  "language_info": {
   "codemirror_mode": {
    "name": "ipython",
    "version": 2
   },
   "file_extension": ".py",
   "mimetype": "text/x-python",
   "name": "python",
   "nbconvert_exporter": "python",
   "pygments_lexer": "ipython2",
   "version": "2.7.13"
  }
 },
 "nbformat": 4,
 "nbformat_minor": 2
}
